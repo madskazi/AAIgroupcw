{
 "cells": [
  {
   "cell_type": "markdown",
   "metadata": {},
   "source": [
    "### installations"
   ]
  },
  {
   "cell_type": "code",
   "execution_count": 1,
   "metadata": {
    "collapsed": true,
    "jupyter": {
     "outputs_hidden": true
    },
    "scrolled": true
   },
   "outputs": [
    {
     "name": "stdout",
     "output_type": "stream",
     "text": [
      "Requirement already satisfied: torch in /opt/anaconda3/lib/python3.12/site-packages (2.5.1)\n",
      "Requirement already satisfied: torchvision in /opt/anaconda3/lib/python3.12/site-packages (0.20.1)\n",
      "Requirement already satisfied: torchaudio in /opt/anaconda3/lib/python3.12/site-packages (2.5.1)\n",
      "Requirement already satisfied: filelock in /opt/anaconda3/lib/python3.12/site-packages (from torch) (3.13.1)\n",
      "Requirement already satisfied: typing-extensions>=4.8.0 in /opt/anaconda3/lib/python3.12/site-packages (from torch) (4.11.0)\n",
      "Requirement already satisfied: networkx in /opt/anaconda3/lib/python3.12/site-packages (from torch) (3.3)\n",
      "Requirement already satisfied: jinja2 in /opt/anaconda3/lib/python3.12/site-packages (from torch) (3.1.4)\n",
      "Requirement already satisfied: fsspec in /opt/anaconda3/lib/python3.12/site-packages (from torch) (2024.6.1)\n",
      "Requirement already satisfied: setuptools in /opt/anaconda3/lib/python3.12/site-packages (from torch) (75.1.0)\n",
      "Requirement already satisfied: sympy==1.13.1 in /opt/anaconda3/lib/python3.12/site-packages (from torch) (1.13.1)\n",
      "Requirement already satisfied: mpmath<1.4,>=1.1.0 in /opt/anaconda3/lib/python3.12/site-packages (from sympy==1.13.1->torch) (1.3.0)\n",
      "Requirement already satisfied: numpy in /opt/anaconda3/lib/python3.12/site-packages (from torchvision) (1.26.4)\n",
      "Requirement already satisfied: pillow!=8.3.*,>=5.3.0 in /opt/anaconda3/lib/python3.12/site-packages (from torchvision) (10.4.0)\n",
      "Requirement already satisfied: MarkupSafe>=2.0 in /opt/anaconda3/lib/python3.12/site-packages (from jinja2->torch) (2.1.3)\n",
      "Note: you may need to restart the kernel to use updated packages.\n"
     ]
    }
   ],
   "source": [
    "pip install torch torchvision torchaudio"
   ]
  },
  {
   "cell_type": "code",
   "execution_count": 2,
   "metadata": {
    "collapsed": true,
    "jupyter": {
     "outputs_hidden": true
    },
    "scrolled": true
   },
   "outputs": [
    {
     "name": "stdout",
     "output_type": "stream",
     "text": [
      "Requirement already satisfied: moviepy in /opt/anaconda3/lib/python3.12/site-packages (2.1.1)\n",
      "Requirement already satisfied: decorator<6.0,>=4.0.2 in /opt/anaconda3/lib/python3.12/site-packages (from moviepy) (5.1.1)\n",
      "Requirement already satisfied: imageio<3.0,>=2.5 in /opt/anaconda3/lib/python3.12/site-packages (from moviepy) (2.33.1)\n",
      "Requirement already satisfied: imageio_ffmpeg>=0.2.0 in /opt/anaconda3/lib/python3.12/site-packages (from moviepy) (0.5.1)\n",
      "Requirement already satisfied: numpy>=1.25.0 in /opt/anaconda3/lib/python3.12/site-packages (from moviepy) (1.26.4)\n",
      "Requirement already satisfied: proglog<=1.0.0 in /opt/anaconda3/lib/python3.12/site-packages (from moviepy) (0.1.10)\n",
      "Requirement already satisfied: python-dotenv>=0.10 in /opt/anaconda3/lib/python3.12/site-packages (from moviepy) (0.21.0)\n",
      "Requirement already satisfied: pillow<11.0,>=9.2.0 in /opt/anaconda3/lib/python3.12/site-packages (from moviepy) (10.4.0)\n",
      "Requirement already satisfied: setuptools in /opt/anaconda3/lib/python3.12/site-packages (from imageio_ffmpeg>=0.2.0->moviepy) (75.1.0)\n",
      "Requirement already satisfied: tqdm in /opt/anaconda3/lib/python3.12/site-packages (from proglog<=1.0.0->moviepy) (4.66.5)\n",
      "Note: you may need to restart the kernel to use updated packages.\n"
     ]
    }
   ],
   "source": [
    "pip install moviepy"
   ]
  },
  {
   "cell_type": "code",
   "execution_count": 3,
   "metadata": {
    "colab": {
     "base_uri": "https://localhost:8080/"
    },
    "collapsed": true,
    "id": "D02pSnSi9gtf",
    "jupyter": {
     "outputs_hidden": true
    },
    "outputId": "d9d4822b-3ef7-485a-eb22-d9b21991df01"
   },
   "outputs": [
    {
     "name": "stdout",
     "output_type": "stream",
     "text": [
      "Requirement already satisfied: tqdm in /opt/anaconda3/lib/python3.12/site-packages (4.66.5)\n",
      "Note: you may need to restart the kernel to use updated packages.\n"
     ]
    }
   ],
   "source": [
    "pip install tqdm"
   ]
  },
  {
   "cell_type": "markdown",
   "metadata": {
    "id": "i64p7AzlPAN7",
    "jp-MarkdownHeadingCollapsed": true
   },
   "source": [
    "# University of Aberdeen\n",
    "\n",
    "## Applied AI (CS5079)\n",
    "\n",
    "### Resit CA1 - Reinforcement Learning with OpenAI Gym"
   ]
  },
  {
   "cell_type": "code",
   "execution_count": 1,
   "metadata": {
    "id": "1uqaLc6WPAN9"
   },
   "outputs": [],
   "source": [
    "#Library for environments\n",
    "import gym\n",
    "from gym.envs.registration import register\n",
    "from gym.envs.toy_text.frozen_lake import generate_random_map\n",
    "\n",
    "#Librairies to represent the output\n",
    "from IPython.display import clear_output, HTML\n",
    "import time\n",
    "import matplotlib.pyplot as plt\n",
    "\n",
    "#Essential libraries for computation\n",
    "import numpy as np\n",
    "import random\n",
    "# import tensorflow.compat.v1 as tf\n",
    "from collections import deque\n"
   ]
  },
  {
   "cell_type": "markdown",
   "metadata": {
    "id": "A2OnCUKePAN-"
   },
   "source": [
    "We will use the following environment."
   ]
  },
  {
   "cell_type": "code",
   "execution_count": 2,
   "metadata": {
    "colab": {
     "base_uri": "https://localhost:8080/"
    },
    "id": "aU8_SUWhPAN-",
    "outputId": "4bfe7773-509d-42d1-9fdc-9066e467e52b"
   },
   "outputs": [],
   "source": [
    "# random_map = generate_random_map(size=10, p=0.3)\n",
    "# env = gym.make(\"FrozenLake-v1\", desc=random_map)\n",
    "# env.reset()\n",
    "# env.render()"
   ]
  },
  {
   "cell_type": "code",
   "execution_count": 3,
   "metadata": {
    "id": "HEQC9XtZoG5J"
   },
   "outputs": [],
   "source": [
    "import imageio\n",
    "import io\n",
    "import base64"
   ]
  },
  {
   "cell_type": "code",
   "execution_count": null,
   "metadata": {
    "id": "iTrqcN9gPAN_"
   },
   "outputs": [],
   "source": [
    "# Parameters\n",
    "state_size = env.observation_space.n  # Number of states\n",
    "action_size = env.action_space.n      # Number of actions\n",
    "learning_rate = 0.001\n",
    "\n",
    "# Define placeholders for states and target Q-values\n",
    "tf.disable_eager_execution()\n",
    "tf.reset_default_graph()\n",
    "states = tf.placeholder(tf.float32, [None, state_size], name=\"states\")\n",
    "q_target = tf.placeholder(tf.float32, [None, action_size], name=\"q_target\")\n",
    "\n",
    "# Neural network architecture\n",
    "fc1 = tf.keras.layers.Dense(24, activation='relu')(states)\n",
    "fc2 = tf.keras.layers.Dense(24, activation='relu')(fc1)\n",
    "output = tf.keras.layers.Dense(action_size, activation=None)(fc2)  # Q-values for each action\n",
    "\n",
    "# Loss and optimizer\n",
    "loss = tf.reduce_mean(tf.square(q_target - output))\n",
    "optimizer = tf.train.AdamOptimizer(learning_rate).minimize(loss)\n"
   ]
  },
  {
   "cell_type": "code",
   "execution_count": null,
   "metadata": {
    "id": "UqijvmOwepPz"
   },
   "outputs": [],
   "source": [
    "# Experience replay parameters\n",
    "memory_size = 2000\n",
    "batch_size = 64\n",
    "replay_memory = deque(maxlen=memory_size)\n",
    "\n",
    "def store_experience(state, action, reward, next_state, done):\n",
    "    replay_memory.append((state, action, reward, next_state, done))\n"
   ]
  },
  {
   "cell_type": "code",
   "execution_count": null,
   "metadata": {
    "id": "-RwcCTgIerE5"
   },
   "outputs": [],
   "source": [
    "epsilon = 1.0        # Exploration rate (starts high)\n",
    "epsilon_min = 0.1   # Minimum exploration rate\n",
    "epsilon_decay = 0.9959 # Decay rate for epsilon\n",
    "\n",
    "def choose_action(state, epsilon):\n",
    "    if np.random.rand() <= epsilon:\n",
    "        return env.action_space.sample()  # Random action\n",
    "    q_values = sess.run(output, feed_dict={states: state})\n",
    "    return np.argmax(q_values[0])  # Best action based on Q-values\n"
   ]
  },
  {
   "cell_type": "code",
   "execution_count": null,
   "metadata": {
    "colab": {
     "base_uri": "https://localhost:8080/",
     "height": 391
    },
    "id": "PobAsPmNeslW",
    "outputId": "410671b8-aa93-4d06-d538-45487b079562"
   },
   "outputs": [
    {
     "ename": "RuntimeError",
     "evalue": "The Session graph is empty. Add operations to the graph before calling run().",
     "output_type": "error",
     "traceback": [
      "\u001b[0;31m---------------------------------------------------------------------------\u001b[0m",
      "\u001b[0;31mRuntimeError\u001b[0m                              Traceback (most recent call last)",
      "\u001b[0;32m<ipython-input-3-125e9a1c632b>\u001b[0m in \u001b[0;36m<cell line: 6>\u001b[0;34m()\u001b[0m\n\u001b[1;32m      4\u001b[0m \u001b[0;31m# TensorFlow session\u001b[0m\u001b[0;34m\u001b[0m\u001b[0;34m\u001b[0m\u001b[0m\n\u001b[1;32m      5\u001b[0m \u001b[0msess\u001b[0m \u001b[0;34m=\u001b[0m \u001b[0mtf\u001b[0m\u001b[0;34m.\u001b[0m\u001b[0mSession\u001b[0m\u001b[0;34m(\u001b[0m\u001b[0;34m)\u001b[0m\u001b[0;34m\u001b[0m\u001b[0;34m\u001b[0m\u001b[0m\n\u001b[0;32m----> 6\u001b[0;31m \u001b[0msess\u001b[0m\u001b[0;34m.\u001b[0m\u001b[0mrun\u001b[0m\u001b[0;34m(\u001b[0m\u001b[0mtf\u001b[0m\u001b[0;34m.\u001b[0m\u001b[0mglobal_variables_initializer\u001b[0m\u001b[0;34m(\u001b[0m\u001b[0;34m)\u001b[0m\u001b[0;34m)\u001b[0m\u001b[0;34m\u001b[0m\u001b[0;34m\u001b[0m\u001b[0m\n\u001b[0m\u001b[1;32m      7\u001b[0m \u001b[0;34m\u001b[0m\u001b[0m\n\u001b[1;32m      8\u001b[0m \u001b[0;31m# Training loop\u001b[0m\u001b[0;34m\u001b[0m\u001b[0;34m\u001b[0m\u001b[0m\n",
      "\u001b[0;32m/usr/local/lib/python3.10/dist-packages/tensorflow/python/client/session.py\u001b[0m in \u001b[0;36mrun\u001b[0;34m(self, fetches, feed_dict, options, run_metadata)\u001b[0m\n\u001b[1;32m    969\u001b[0m \u001b[0;34m\u001b[0m\u001b[0m\n\u001b[1;32m    970\u001b[0m     \u001b[0;32mtry\u001b[0m\u001b[0;34m:\u001b[0m\u001b[0;34m\u001b[0m\u001b[0;34m\u001b[0m\u001b[0m\n\u001b[0;32m--> 971\u001b[0;31m       result = self._run(None, fetches, feed_dict, options_ptr,\n\u001b[0m\u001b[1;32m    972\u001b[0m                          run_metadata_ptr)\n\u001b[1;32m    973\u001b[0m       \u001b[0;32mif\u001b[0m \u001b[0mrun_metadata\u001b[0m\u001b[0;34m:\u001b[0m\u001b[0;34m\u001b[0m\u001b[0;34m\u001b[0m\u001b[0m\n",
      "\u001b[0;32m/usr/local/lib/python3.10/dist-packages/tensorflow/python/client/session.py\u001b[0m in \u001b[0;36m_run\u001b[0;34m(self, handle, fetches, feed_dict, options, run_metadata)\u001b[0m\n\u001b[1;32m   1139\u001b[0m       \u001b[0;32mraise\u001b[0m \u001b[0mRuntimeError\u001b[0m\u001b[0;34m(\u001b[0m\u001b[0;34m'Attempted to use a closed Session.'\u001b[0m\u001b[0;34m)\u001b[0m\u001b[0;34m\u001b[0m\u001b[0;34m\u001b[0m\u001b[0m\n\u001b[1;32m   1140\u001b[0m     \u001b[0;32mif\u001b[0m \u001b[0mself\u001b[0m\u001b[0;34m.\u001b[0m\u001b[0mgraph\u001b[0m\u001b[0;34m.\u001b[0m\u001b[0mversion\u001b[0m \u001b[0;34m==\u001b[0m \u001b[0;36m0\u001b[0m\u001b[0;34m:\u001b[0m\u001b[0;34m\u001b[0m\u001b[0;34m\u001b[0m\u001b[0m\n\u001b[0;32m-> 1141\u001b[0;31m       raise RuntimeError('The Session graph is empty. Add operations to the '\n\u001b[0m\u001b[1;32m   1142\u001b[0m                          'graph before calling run().')\n\u001b[1;32m   1143\u001b[0m \u001b[0;34m\u001b[0m\u001b[0m\n",
      "\u001b[0;31mRuntimeError\u001b[0m: The Session graph is empty. Add operations to the graph before calling run()."
     ]
    }
   ],
   "source": [
    "num_episodes = 3000  # Number of episodes to train\n",
    "gamma = 0.99         # Discount factor\n",
    "\n",
    "# TensorFlow session\n",
    "sess = tf.Session()\n",
    "sess.run(tf.global_variables_initializer())\n",
    "\n",
    "# Training loop\n",
    "for episode in range(num_episodes):\n",
    "    state = env.reset()\n",
    "    state = np.identity(state_size)[state:state+1]  # One-hot encoding of initial state\n",
    "    total_reward = 0\n",
    "\n",
    "    for step in range(100):\n",
    "        # Choose action\n",
    "        action = choose_action(state, epsilon)\n",
    "\n",
    "        # Take action and observe results\n",
    "        next_state, reward, done, _ = env.step(action)\n",
    "        next_state = np.identity(state_size)[next_state:next_state+1]  # One-hot encoding of next state\n",
    "\n",
    "        # Store experience in replay memory\n",
    "        store_experience(state, action, reward, next_state, done)\n",
    "\n",
    "        # Update state\n",
    "        state = next_state\n",
    "        total_reward += reward\n",
    "\n",
    "        # Sample random batch from memory and train\n",
    "        if len(replay_memory) >= batch_size:\n",
    "            minibatch = random.sample(replay_memory, batch_size)\n",
    "            states_mb = np.array([exp[0][0] for exp in minibatch])\n",
    "            actions_mb = [exp[1] for exp in minibatch]\n",
    "            rewards_mb = [exp[2] for exp in minibatch]\n",
    "            next_states_mb = np.array([exp[3][0] for exp in minibatch])\n",
    "            dones_mb = [exp[4] for exp in minibatch]\n",
    "\n",
    "            # Predict Q-values for next states\n",
    "            target_qs = sess.run(output, feed_dict={states: next_states_mb})\n",
    "            targets_mb = sess.run(output, feed_dict={states: states_mb})\n",
    "\n",
    "            for i in range(batch_size):\n",
    "                if dones_mb[i]:\n",
    "                    targets_mb[i][actions_mb[i]] = rewards_mb[i]\n",
    "                else:\n",
    "                    targets_mb[i][actions_mb[i]] = rewards_mb[i] + gamma * np.amax(target_qs[i])\n",
    "\n",
    "            # Update the network with the new targets\n",
    "            sess.run(optimizer, feed_dict={states: states_mb, q_target: targets_mb})\n",
    "\n",
    "        if done:\n",
    "            break\n",
    "\n",
    "    # Decay epsilon\n",
    "    epsilon *= epsilon_decay\n",
    "    if epsilon < epsilon_min:\n",
    "        epsilon = epsilon_min\n",
    "\n",
    "    # Display results occasionally\n",
    "    if (episode + 1) % 100 == 0:\n",
    "        print(f\"Episode: {episode + 1}, Total Reward: {total_reward}, Epsilon: {epsilon}\")\n",
    "\n",
    "print(\"Training completed.\")\n",
    "\n"
   ]
  },
  {
   "cell_type": "code",
   "execution_count": null,
   "metadata": {
    "colab": {
     "base_uri": "https://localhost:8080/",
     "height": 1000
    },
    "id": "R9kp0f3qm96D",
    "outputId": "20bafb69-06f2-4248-809b-ecf8ff1f2f7c"
   },
   "outputs": [
    {
     "name": "stderr",
     "output_type": "stream",
     "text": [
      "/usr/local/lib/python3.10/dist-packages/gym/core.py:317: DeprecationWarning: \u001b[33mWARN: Initializing wrapper in old step API which returns one bool instead of two. It is recommended to set `new_step_api=True` to use new step API. This will be the default behaviour in future.\u001b[0m\n",
      "  deprecation(\n",
      "/usr/local/lib/python3.10/dist-packages/gym/wrappers/step_api_compatibility.py:39: DeprecationWarning: \u001b[33mWARN: Initializing environment in old step API which returns one bool instead of two. It is recommended to set `new_step_api=True` to use new step API. This will be the default behaviour in future.\u001b[0m\n",
      "  deprecation(\n",
      "/usr/local/lib/python3.10/dist-packages/gym/wrappers/record_video.py:78: UserWarning: \u001b[33mWARN: Overwriting existing videos at /content/video folder (try specifying a different `video_folder` for the `RecordVideo` wrapper if this is not desired)\u001b[0m\n",
      "  logger.warn(\n",
      "Progress:   0%|          | 0/10000 [00:00<?, ?it/s]/usr/local/lib/python3.10/dist-packages/gym/utils/passive_env_checker.py:241: DeprecationWarning: `np.bool8` is a deprecated alias for `np.bool_`.  (Deprecated NumPy 1.24)\n",
      "  if not isinstance(terminated, (bool, np.bool8)):\n",
      "Progress:   1%|          | 100/10000 [00:10<18:48,  8.78it/s]"
     ]
    },
    {
     "name": "stdout",
     "output_type": "stream",
     "text": [
      "Episode: 100, Total Reward: 0.0, Epsilon: 0.9900493386913721\n"
     ]
    },
    {
     "name": "stderr",
     "output_type": "stream",
     "text": [
      "Progress:   2%|▏         | 199/10000 [00:26<26:33,  6.15it/s]"
     ]
    },
    {
     "name": "stdout",
     "output_type": "stream",
     "text": [
      "Episode: 200, Total Reward: 0.0, Epsilon: 0.980197693043223\n"
     ]
    },
    {
     "name": "stderr",
     "output_type": "stream",
     "text": [
      "Progress:   3%|▎         | 300/10000 [00:39<30:22,  5.32it/s]"
     ]
    },
    {
     "name": "stdout",
     "output_type": "stream",
     "text": [
      "Episode: 300, Total Reward: 0.0, Epsilon: 0.970444077784251\n"
     ]
    },
    {
     "name": "stderr",
     "output_type": "stream",
     "text": [
      "Progress:   4%|▍         | 400/10000 [01:00<18:52,  8.47it/s]"
     ]
    },
    {
     "name": "stdout",
     "output_type": "stream",
     "text": [
      "Episode: 400, Total Reward: 0.0, Epsilon: 0.9607875174472562\n"
     ]
    },
    {
     "name": "stderr",
     "output_type": "stream",
     "text": [
      "Progress:   5%|▌         | 502/10000 [01:16<17:08,  9.24it/s]"
     ]
    },
    {
     "name": "stdout",
     "output_type": "stream",
     "text": [
      "Episode: 500, Total Reward: 0.0, Epsilon: 0.9512270462715811\n"
     ]
    },
    {
     "name": "stderr",
     "output_type": "stream",
     "text": [
      "Progress:   6%|▌         | 600/10000 [01:32<34:31,  4.54it/s]"
     ]
    },
    {
     "name": "stdout",
     "output_type": "stream",
     "text": [
      "Episode: 600, Total Reward: 0.0, Epsilon: 0.9417617081065252\n"
     ]
    },
    {
     "name": "stderr",
     "output_type": "stream",
     "text": [
      "Progress:   7%|▋         | 700/10000 [01:50<23:55,  6.48it/s]"
     ]
    },
    {
     "name": "stdout",
     "output_type": "stream",
     "text": [
      "Episode: 700, Total Reward: 0.0, Epsilon: 0.9323905563157222\n"
     ]
    },
    {
     "name": "stderr",
     "output_type": "stream",
     "text": [
      "Progress:   8%|▊         | 801/10000 [02:06<15:13, 10.07it/s]"
     ]
    },
    {
     "name": "stdout",
     "output_type": "stream",
     "text": [
      "Episode: 800, Total Reward: 0.0, Epsilon: 0.9231126536824614\n"
     ]
    },
    {
     "name": "stderr",
     "output_type": "stream",
     "text": [
      "Progress:   9%|▉         | 902/10000 [02:21<22:34,  6.72it/s]"
     ]
    },
    {
     "name": "stdout",
     "output_type": "stream",
     "text": [
      "Episode: 900, Total Reward: 0.0, Epsilon: 0.9139270723159584\n"
     ]
    },
    {
     "name": "stderr",
     "output_type": "stream",
     "text": [
      "Progress:  10%|█         | 1002/10000 [02:35<11:03, 13.56it/s]"
     ]
    },
    {
     "name": "stdout",
     "output_type": "stream",
     "text": [
      "Episode: 1000, Total Reward: 0.0, Epsilon: 0.9048328935585562\n"
     ]
    },
    {
     "name": "stderr",
     "output_type": "stream",
     "text": [
      "Progress:  11%|█         | 1102/10000 [02:52<20:52,  7.10it/s]"
     ]
    },
    {
     "name": "stdout",
     "output_type": "stream",
     "text": [
      "Episode: 1100, Total Reward: 0.0, Epsilon: 0.8958292078938495\n"
     ]
    },
    {
     "name": "stderr",
     "output_type": "stream",
     "text": [
      "Progress:  12%|█▏        | 1202/10000 [03:11<14:27, 10.14it/s]"
     ]
    },
    {
     "name": "stdout",
     "output_type": "stream",
     "text": [
      "Episode: 1200, Total Reward: 0.0, Epsilon: 0.886915114855721\n"
     ]
    },
    {
     "name": "stderr",
     "output_type": "stream",
     "text": [
      "Progress:  13%|█▎        | 1301/10000 [03:27<15:00,  9.66it/s]"
     ]
    },
    {
     "name": "stdout",
     "output_type": "stream",
     "text": [
      "Episode: 1300, Total Reward: 0.0, Epsilon: 0.8780897229382887\n"
     ]
    },
    {
     "name": "stderr",
     "output_type": "stream",
     "text": [
      "Progress:  14%|█▍        | 1401/10000 [03:45<23:11,  6.18it/s]"
     ]
    },
    {
     "name": "stdout",
     "output_type": "stream",
     "text": [
      "Episode: 1400, Total Reward: 0.0, Epsilon: 0.8693521495067424\n"
     ]
    },
    {
     "name": "stderr",
     "output_type": "stream",
     "text": [
      "Progress:  15%|█▌        | 1501/10000 [04:02<28:35,  4.95it/s]"
     ]
    },
    {
     "name": "stdout",
     "output_type": "stream",
     "text": [
      "Episode: 1500, Total Reward: 0.0, Epsilon: 0.8607015207090729\n"
     ]
    },
    {
     "name": "stderr",
     "output_type": "stream",
     "text": [
      "Progress:  16%|█▌        | 1602/10000 [04:18<13:34, 10.31it/s]"
     ]
    },
    {
     "name": "stdout",
     "output_type": "stream",
     "text": [
      "Episode: 1600, Total Reward: 0.0, Epsilon: 0.8521369713886755\n"
     ]
    },
    {
     "name": "stderr",
     "output_type": "stream",
     "text": [
      "Progress:  17%|█▋        | 1701/10000 [04:33<17:31,  7.89it/s]"
     ]
    },
    {
     "name": "stdout",
     "output_type": "stream",
     "text": [
      "Episode: 1700, Total Reward: 0.0, Epsilon: 0.843657644997827\n"
     ]
    },
    {
     "name": "stderr",
     "output_type": "stream",
     "text": [
      "Progress:  18%|█▊        | 1800/10000 [04:50<21:32,  6.34it/s]"
     ]
    },
    {
     "name": "stdout",
     "output_type": "stream",
     "text": [
      "Episode: 1800, Total Reward: 0.0, Epsilon: 0.8352626935120188\n"
     ]
    },
    {
     "name": "stderr",
     "output_type": "stream",
     "text": [
      "Progress:  19%|█▉        | 1898/10000 [05:06<22:11,  6.09it/s]"
     ]
    },
    {
     "name": "stdout",
     "output_type": "stream",
     "text": [
      "Episode: 1900, Total Reward: 0.0, Epsilon: 0.8269512773451482\n"
     ]
    },
    {
     "name": "stderr",
     "output_type": "stream",
     "text": [
      "Progress:  20%|██        | 2000/10000 [05:23<25:00,  5.33it/s]"
     ]
    },
    {
     "name": "stdout",
     "output_type": "stream",
     "text": [
      "Episode: 2000, Total Reward: 0.0, Epsilon: 0.8187225652655491\n"
     ]
    },
    {
     "name": "stderr",
     "output_type": "stream",
     "text": [
      "Progress:  21%|██        | 2101/10000 [05:39<16:49,  7.83it/s]"
     ]
    },
    {
     "name": "stdout",
     "output_type": "stream",
     "text": [
      "Episode: 2100, Total Reward: 0.0, Epsilon: 0.8105757343128605\n"
     ]
    },
    {
     "name": "stderr",
     "output_type": "stream",
     "text": [
      "Progress:  22%|██▏       | 2201/10000 [05:56<19:39,  6.61it/s]"
     ]
    },
    {
     "name": "stdout",
     "output_type": "stream",
     "text": [
      "Episode: 2200, Total Reward: 0.0, Epsilon: 0.8025099697157205\n"
     ]
    },
    {
     "name": "stderr",
     "output_type": "stream",
     "text": [
      "Progress:  23%|██▎       | 2299/10000 [06:15<19:11,  6.69it/s]"
     ]
    },
    {
     "name": "stdout",
     "output_type": "stream",
     "text": [
      "Episode: 2300, Total Reward: 0.0, Epsilon: 0.7945244648102819\n"
     ]
    },
    {
     "name": "stderr",
     "output_type": "stream",
     "text": [
      "Progress:  24%|██▍       | 2401/10000 [06:31<17:49,  7.10it/s]"
     ]
    },
    {
     "name": "stdout",
     "output_type": "stream",
     "text": [
      "Episode: 2400, Total Reward: 0.0, Epsilon: 0.7866184209595359\n"
     ]
    },
    {
     "name": "stderr",
     "output_type": "stream",
     "text": [
      "Progress:  25%|██▌       | 2500/10000 [06:47<20:08,  6.21it/s]"
     ]
    },
    {
     "name": "stdout",
     "output_type": "stream",
     "text": [
      "Episode: 2500, Total Reward: 0.0, Epsilon: 0.7787910474734399\n"
     ]
    },
    {
     "name": "stderr",
     "output_type": "stream",
     "text": [
      "Progress:  26%|██▌       | 2600/10000 [07:05<21:47,  5.66it/s]"
     ]
    },
    {
     "name": "stdout",
     "output_type": "stream",
     "text": [
      "Episode: 2600, Total Reward: 0.0, Epsilon: 0.7710415615298397\n"
     ]
    },
    {
     "name": "stderr",
     "output_type": "stream",
     "text": [
      "Progress:  27%|██▋       | 2699/10000 [07:23<27:00,  4.50it/s]"
     ]
    },
    {
     "name": "stdout",
     "output_type": "stream",
     "text": [
      "Episode: 2700, Total Reward: 0.0, Epsilon: 0.7633691880961806\n"
     ]
    },
    {
     "name": "stderr",
     "output_type": "stream",
     "text": [
      "Progress:  28%|██▊       | 2800/10000 [07:40<23:45,  5.05it/s]"
     ]
    },
    {
     "name": "stdout",
     "output_type": "stream",
     "text": [
      "Episode: 2800, Total Reward: 0.0, Epsilon: 0.7557731598519929\n"
     ]
    },
    {
     "name": "stderr",
     "output_type": "stream",
     "text": [
      "Progress:  29%|██▉       | 2899/10000 [07:58<23:09,  5.11it/s]"
     ]
    },
    {
     "name": "stdout",
     "output_type": "stream",
     "text": [
      "Episode: 2900, Total Reward: 0.0, Epsilon: 0.748252717112154\n"
     ]
    },
    {
     "name": "stderr",
     "output_type": "stream",
     "text": [
      "Progress:  30%|███       | 3001/10000 [08:15<16:38,  7.01it/s]"
     ]
    },
    {
     "name": "stdout",
     "output_type": "stream",
     "text": [
      "Episode: 3000, Total Reward: 0.0, Epsilon: 0.74080710775091\n"
     ]
    },
    {
     "name": "stderr",
     "output_type": "stream",
     "text": [
      "Progress:  31%|███       | 3101/10000 [08:30<15:33,  7.39it/s]"
     ]
    },
    {
     "name": "stdout",
     "output_type": "stream",
     "text": [
      "Episode: 3100, Total Reward: 0.0, Epsilon: 0.7334355871266565\n"
     ]
    },
    {
     "name": "stderr",
     "output_type": "stream",
     "text": [
      "Progress:  32%|███▏      | 3201/10000 [08:49<27:22,  4.14it/s]"
     ]
    },
    {
     "name": "stdout",
     "output_type": "stream",
     "text": [
      "Episode: 3200, Total Reward: 0.0, Epsilon: 0.7261374180074647\n"
     ]
    },
    {
     "name": "stderr",
     "output_type": "stream",
     "text": [
      "Progress:  33%|███▎      | 3301/10000 [09:07<32:13,  3.46it/s]"
     ]
    },
    {
     "name": "stdout",
     "output_type": "stream",
     "text": [
      "Episode: 3300, Total Reward: 0.0, Epsilon: 0.7189118704973512\n"
     ]
    },
    {
     "name": "stderr",
     "output_type": "stream",
     "text": [
      "Progress:  34%|███▍      | 3400/10000 [09:24<23:27,  4.69it/s]"
     ]
    },
    {
     "name": "stdout",
     "output_type": "stream",
     "text": [
      "Episode: 3400, Total Reward: 1.0, Epsilon: 0.7117582219632792\n"
     ]
    },
    {
     "name": "stderr",
     "output_type": "stream",
     "text": [
      "Progress:  35%|███▍      | 3499/10000 [09:41<24:17,  4.46it/s]"
     ]
    },
    {
     "name": "stdout",
     "output_type": "stream",
     "text": [
      "Episode: 3500, Total Reward: 0.0, Epsilon: 0.7046757569628911\n"
     ]
    },
    {
     "name": "stderr",
     "output_type": "stream",
     "text": [
      "Progress:  36%|███▌      | 3600/10000 [10:01<16:24,  6.50it/s]"
     ]
    },
    {
     "name": "stdout",
     "output_type": "stream",
     "text": [
      "Episode: 3600, Total Reward: 0.0, Epsilon: 0.697663767172952\n"
     ]
    },
    {
     "name": "stderr",
     "output_type": "stream",
     "text": [
      "Progress:  37%|███▋      | 3700/10000 [10:17<11:57,  8.77it/s]"
     ]
    },
    {
     "name": "stdout",
     "output_type": "stream",
     "text": [
      "Episode: 3700, Total Reward: 0.0, Epsilon: 0.6907215513185129\n"
     ]
    },
    {
     "name": "stderr",
     "output_type": "stream",
     "text": [
      "Progress:  38%|███▊      | 3801/10000 [10:37<28:49,  3.58it/s]"
     ]
    },
    {
     "name": "stdout",
     "output_type": "stream",
     "text": [
      "Episode: 3800, Total Reward: 0.0, Epsilon: 0.6838484151027725\n"
     ]
    },
    {
     "name": "stderr",
     "output_type": "stream",
     "text": [
      "Progress:  39%|███▉      | 3900/10000 [10:54<17:17,  5.88it/s]"
     ]
    },
    {
     "name": "stdout",
     "output_type": "stream",
     "text": [
      "Episode: 3900, Total Reward: 0.0, Epsilon: 0.6770436711376424\n"
     ]
    },
    {
     "name": "stderr",
     "output_type": "stream",
     "text": [
      "Progress:  40%|████      | 4001/10000 [11:09<14:13,  7.03it/s]"
     ]
    },
    {
     "name": "stdout",
     "output_type": "stream",
     "text": [
      "Episode: 4000, Total Reward: 0.0, Epsilon: 0.6703066388750015\n"
     ]
    },
    {
     "name": "stderr",
     "output_type": "stream",
     "text": [
      "Progress:  41%|████      | 4099/10000 [11:25<16:39,  5.91it/s]"
     ]
    },
    {
     "name": "stdout",
     "output_type": "stream",
     "text": [
      "Episode: 4100, Total Reward: 0.0, Epsilon: 0.6636366445386316\n"
     ]
    },
    {
     "name": "stderr",
     "output_type": "stream",
     "text": [
      "Progress:  42%|████▏     | 4200/10000 [11:40<16:23,  5.90it/s]"
     ]
    },
    {
     "name": "stdout",
     "output_type": "stream",
     "text": [
      "Episode: 4200, Total Reward: 0.0, Epsilon: 0.657033021056833\n"
     ]
    },
    {
     "name": "stderr",
     "output_type": "stream",
     "text": [
      "Progress:  43%|████▎     | 4304/10000 [11:54<08:54, 10.66it/s]"
     ]
    },
    {
     "name": "stdout",
     "output_type": "stream",
     "text": [
      "Episode: 4300, Total Reward: 0.0, Epsilon: 0.6504951079957114\n"
     ]
    },
    {
     "name": "stderr",
     "output_type": "stream",
     "text": [
      "Progress:  44%|████▍     | 4401/10000 [12:09<09:38,  9.68it/s]"
     ]
    },
    {
     "name": "stdout",
     "output_type": "stream",
     "text": [
      "Episode: 4400, Total Reward: 0.0, Epsilon: 0.6440222514931265\n"
     ]
    },
    {
     "name": "stderr",
     "output_type": "stream",
     "text": [
      "Progress:  45%|████▌     | 4501/10000 [12:26<15:50,  5.78it/s]"
     ]
    },
    {
     "name": "stdout",
     "output_type": "stream",
     "text": [
      "Episode: 4500, Total Reward: 0.0, Epsilon: 0.6376138041932984\n"
     ]
    },
    {
     "name": "stderr",
     "output_type": "stream",
     "text": [
      "Progress:  46%|████▌     | 4601/10000 [12:43<11:07,  8.09it/s]"
     ]
    },
    {
     "name": "stdout",
     "output_type": "stream",
     "text": [
      "Episode: 4600, Total Reward: 0.0, Epsilon: 0.6312691251820646\n"
     ]
    },
    {
     "name": "stderr",
     "output_type": "stream",
     "text": [
      "Progress:  47%|████▋     | 4701/10000 [13:05<13:52,  6.36it/s]"
     ]
    },
    {
     "name": "stdout",
     "output_type": "stream",
     "text": [
      "Episode: 4700, Total Reward: 0.0, Epsilon: 0.6249875799227835\n"
     ]
    },
    {
     "name": "stderr",
     "output_type": "stream",
     "text": [
      "Progress:  48%|████▊     | 4800/10000 [13:23<10:41,  8.11it/s]"
     ]
    },
    {
     "name": "stdout",
     "output_type": "stream",
     "text": [
      "Episode: 4800, Total Reward: 0.0, Epsilon: 0.6187685401928729\n"
     ]
    },
    {
     "name": "stderr",
     "output_type": "stream",
     "text": [
      "Progress:  49%|████▉     | 4901/10000 [13:40<10:36,  8.01it/s]"
     ]
    },
    {
     "name": "stdout",
     "output_type": "stream",
     "text": [
      "Episode: 4900, Total Reward: 0.0, Epsilon: 0.6126113840209793\n"
     ]
    },
    {
     "name": "stderr",
     "output_type": "stream",
     "text": [
      "Progress:  50%|█████     | 5001/10000 [13:56<14:22,  5.80it/s]"
     ]
    },
    {
     "name": "stdout",
     "output_type": "stream",
     "text": [
      "Episode: 5000, Total Reward: 0.0, Epsilon: 0.6065154956247766\n"
     ]
    },
    {
     "name": "stderr",
     "output_type": "stream",
     "text": [
      "Progress:  51%|█████     | 5101/10000 [14:08<09:06,  8.97it/s]"
     ]
    },
    {
     "name": "stdout",
     "output_type": "stream",
     "text": [
      "Episode: 5100, Total Reward: 0.0, Epsilon: 0.6004802653493791\n"
     ]
    },
    {
     "name": "stderr",
     "output_type": "stream",
     "text": [
      "Progress:  52%|█████▏    | 5201/10000 [14:25<12:34,  6.36it/s]"
     ]
    },
    {
     "name": "stdout",
     "output_type": "stream",
     "text": [
      "Episode: 5200, Total Reward: 0.0, Epsilon: 0.594505089606372\n"
     ]
    },
    {
     "name": "stderr",
     "output_type": "stream",
     "text": [
      "Progress:  53%|█████▎    | 5301/10000 [14:43<16:47,  4.66it/s]"
     ]
    },
    {
     "name": "stdout",
     "output_type": "stream",
     "text": [
      "Episode: 5300, Total Reward: 0.0, Epsilon: 0.5885893708134431\n"
     ]
    },
    {
     "name": "stderr",
     "output_type": "stream",
     "text": [
      "Progress:  54%|█████▍    | 5402/10000 [14:59<07:31, 10.18it/s]"
     ]
    },
    {
     "name": "stdout",
     "output_type": "stream",
     "text": [
      "Episode: 5400, Total Reward: 0.0, Epsilon: 0.5827325173346204\n"
     ]
    },
    {
     "name": "stderr",
     "output_type": "stream",
     "text": [
      "Progress:  55%|█████▌    | 5501/10000 [15:17<11:15,  6.66it/s]"
     ]
    },
    {
     "name": "stdout",
     "output_type": "stream",
     "text": [
      "Episode: 5500, Total Reward: 0.0, Epsilon: 0.5769339434210992\n"
     ]
    },
    {
     "name": "stderr",
     "output_type": "stream",
     "text": [
      "Progress:  56%|█████▌    | 5601/10000 [15:32<07:52,  9.32it/s]"
     ]
    },
    {
     "name": "stdout",
     "output_type": "stream",
     "text": [
      "Episode: 5600, Total Reward: 0.0, Epsilon: 0.5711930691526644\n"
     ]
    },
    {
     "name": "stderr",
     "output_type": "stream",
     "text": [
      "Progress:  57%|█████▋    | 5699/10000 [15:50<12:49,  5.59it/s]"
     ]
    },
    {
     "name": "stdout",
     "output_type": "stream",
     "text": [
      "Episode: 5700, Total Reward: 0.0, Epsilon: 0.565509320379691\n"
     ]
    },
    {
     "name": "stderr",
     "output_type": "stream",
     "text": [
      "Progress:  58%|█████▊    | 5800/10000 [16:08<10:21,  6.75it/s]"
     ]
    },
    {
     "name": "stdout",
     "output_type": "stream",
     "text": [
      "Episode: 5800, Total Reward: 0.0, Epsilon: 0.5598821286657205\n"
     ]
    },
    {
     "name": "stderr",
     "output_type": "stream",
     "text": [
      "Progress:  59%|█████▉    | 5900/10000 [16:26<10:47,  6.33it/s]"
     ]
    },
    {
     "name": "stdout",
     "output_type": "stream",
     "text": [
      "Episode: 5900, Total Reward: 0.0, Epsilon: 0.5543109312306146\n"
     ]
    },
    {
     "name": "stderr",
     "output_type": "stream",
     "text": [
      "Progress:  60%|██████    | 6000/10000 [16:46<08:46,  7.59it/s]"
     ]
    },
    {
     "name": "stdout",
     "output_type": "stream",
     "text": [
      "Episode: 6000, Total Reward: 0.0, Epsilon: 0.5487951708942683\n"
     ]
    },
    {
     "name": "stderr",
     "output_type": "stream",
     "text": [
      "Progress:  61%|██████    | 6099/10000 [17:02<07:35,  8.56it/s]"
     ]
    },
    {
     "name": "stdout",
     "output_type": "stream",
     "text": [
      "Episode: 6100, Total Reward: 0.0, Epsilon: 0.5433342960208886\n"
     ]
    },
    {
     "name": "stderr",
     "output_type": "stream",
     "text": [
      "Progress:  62%|██████▏   | 6202/10000 [17:17<07:10,  8.83it/s]"
     ]
    },
    {
     "name": "stdout",
     "output_type": "stream",
     "text": [
      "Episode: 6200, Total Reward: 0.0, Epsilon: 0.5379277604638235\n"
     ]
    },
    {
     "name": "stderr",
     "output_type": "stream",
     "text": [
      "Progress:  63%|██████▎   | 6300/10000 [17:32<10:03,  6.13it/s]"
     ]
    },
    {
     "name": "stdout",
     "output_type": "stream",
     "text": [
      "Episode: 6300, Total Reward: 0.0, Epsilon: 0.5325750235109391\n"
     ]
    },
    {
     "name": "stderr",
     "output_type": "stream",
     "text": [
      "Progress:  64%|██████▍   | 6401/10000 [17:48<12:07,  4.95it/s]"
     ]
    },
    {
     "name": "stdout",
     "output_type": "stream",
     "text": [
      "Episode: 6400, Total Reward: 0.0, Epsilon: 0.5272755498305473\n"
     ]
    },
    {
     "name": "stderr",
     "output_type": "stream",
     "text": [
      "Progress:  65%|██████▌   | 6501/10000 [18:05<10:12,  5.72it/s]"
     ]
    },
    {
     "name": "stdout",
     "output_type": "stream",
     "text": [
      "Episode: 6500, Total Reward: 0.0, Epsilon: 0.5220288094178624\n"
     ]
    },
    {
     "name": "stderr",
     "output_type": "stream",
     "text": [
      "Progress:  66%|██████▌   | 6600/10000 [18:19<06:02,  9.37it/s]"
     ]
    },
    {
     "name": "stdout",
     "output_type": "stream",
     "text": [
      "Episode: 6600, Total Reward: 0.0, Epsilon: 0.5168342775419988\n"
     ]
    },
    {
     "name": "stderr",
     "output_type": "stream",
     "text": [
      "Progress:  67%|██████▋   | 6701/10000 [18:36<07:39,  7.18it/s]"
     ]
    },
    {
     "name": "stdout",
     "output_type": "stream",
     "text": [
      "Episode: 6700, Total Reward: 0.0, Epsilon: 0.5116914346934888\n"
     ]
    },
    {
     "name": "stderr",
     "output_type": "stream",
     "text": [
      "Progress:  68%|██████▊   | 6800/10000 [18:51<04:25, 12.05it/s]"
     ]
    },
    {
     "name": "stdout",
     "output_type": "stream",
     "text": [
      "Episode: 6800, Total Reward: 0.0, Epsilon: 0.506599766532328\n"
     ]
    },
    {
     "name": "stderr",
     "output_type": "stream",
     "text": [
      "Progress:  69%|██████▉   | 6901/10000 [19:05<05:55,  8.72it/s]"
     ]
    },
    {
     "name": "stdout",
     "output_type": "stream",
     "text": [
      "Episode: 6900, Total Reward: 0.0, Epsilon: 0.5015587638365347\n"
     ]
    },
    {
     "name": "stderr",
     "output_type": "stream",
     "text": [
      "Progress:  70%|███████   | 7000/10000 [19:22<10:45,  4.65it/s]"
     ]
    },
    {
     "name": "stdout",
     "output_type": "stream",
     "text": [
      "Episode: 7000, Total Reward: 0.0, Epsilon: 0.496567922451223\n"
     ]
    },
    {
     "name": "stderr",
     "output_type": "stream",
     "text": [
      "Progress:  71%|███████   | 7101/10000 [19:40<09:52,  4.89it/s]"
     ]
    },
    {
     "name": "stdout",
     "output_type": "stream",
     "text": [
      "Episode: 7100, Total Reward: 0.0, Epsilon: 0.4916267432381818\n"
     ]
    },
    {
     "name": "stderr",
     "output_type": "stream",
     "text": [
      "Progress:  72%|███████▏  | 7203/10000 [19:55<04:26, 10.49it/s]"
     ]
    },
    {
     "name": "stdout",
     "output_type": "stream",
     "text": [
      "Episode: 7200, Total Reward: 0.0, Epsilon: 0.4867347320259549\n"
     ]
    },
    {
     "name": "stderr",
     "output_type": "stream",
     "text": [
      "Progress:  73%|███████▎  | 7302/10000 [20:10<05:20,  8.41it/s]"
     ]
    },
    {
     "name": "stdout",
     "output_type": "stream",
     "text": [
      "Episode: 7300, Total Reward: 0.0, Epsilon: 0.48189139956041893\n"
     ]
    },
    {
     "name": "stderr",
     "output_type": "stream",
     "text": [
      "Progress:  74%|███████▍  | 7399/10000 [20:26<07:13,  5.99it/s]"
     ]
    },
    {
     "name": "stdout",
     "output_type": "stream",
     "text": [
      "Episode: 7400, Total Reward: 0.0, Epsilon: 0.4770962614558525\n"
     ]
    },
    {
     "name": "stderr",
     "output_type": "stream",
     "text": [
      "Progress:  75%|███████▌  | 7501/10000 [20:46<05:24,  7.70it/s]"
     ]
    },
    {
     "name": "stdout",
     "output_type": "stream",
     "text": [
      "Episode: 7500, Total Reward: 0.0, Epsilon: 0.4723488381464926\n"
     ]
    },
    {
     "name": "stderr",
     "output_type": "stream",
     "text": [
      "Progress:  76%|███████▌  | 7600/10000 [21:02<08:40,  4.61it/s]"
     ]
    },
    {
     "name": "stdout",
     "output_type": "stream",
     "text": [
      "Episode: 7600, Total Reward: 0.0, Epsilon: 0.467648654838573\n"
     ]
    },
    {
     "name": "stderr",
     "output_type": "stream",
     "text": [
      "Progress:  77%|███████▋  | 7699/10000 [21:17<07:07,  5.38it/s]"
     ]
    },
    {
     "name": "stdout",
     "output_type": "stream",
     "text": [
      "Episode: 7700, Total Reward: 0.0, Epsilon: 0.46299524146283894\n"
     ]
    },
    {
     "name": "stderr",
     "output_type": "stream",
     "text": [
      "Progress:  78%|███████▊  | 7801/10000 [21:34<05:33,  6.59it/s]"
     ]
    },
    {
     "name": "stdout",
     "output_type": "stream",
     "text": [
      "Episode: 7800, Total Reward: 0.0, Epsilon: 0.4583881326275357\n"
     ]
    },
    {
     "name": "stderr",
     "output_type": "stream",
     "text": [
      "Progress:  79%|███████▉  | 7900/10000 [21:51<05:44,  6.10it/s]"
     ]
    },
    {
     "name": "stdout",
     "output_type": "stream",
     "text": [
      "Episode: 7900, Total Reward: 0.0, Epsilon: 0.45382686757186447\n"
     ]
    },
    {
     "name": "stderr",
     "output_type": "stream",
     "text": [
      "Progress:  80%|████████  | 8000/10000 [22:06<05:43,  5.83it/s]"
     ]
    },
    {
     "name": "stdout",
     "output_type": "stream",
     "text": [
      "Episode: 8000, Total Reward: 0.0, Epsilon: 0.4493109901199013\n"
     ]
    },
    {
     "name": "stderr",
     "output_type": "stream",
     "text": [
      "Progress:  81%|████████  | 8102/10000 [22:24<04:08,  7.65it/s]"
     ]
    },
    {
     "name": "stdout",
     "output_type": "stream",
     "text": [
      "Episode: 8100, Total Reward: 0.0, Epsilon: 0.44484004863497356\n"
     ]
    },
    {
     "name": "stderr",
     "output_type": "stream",
     "text": [
      "Progress:  82%|████████▏ | 8201/10000 [22:41<03:35,  8.34it/s]"
     ]
    },
    {
     "name": "stdout",
     "output_type": "stream",
     "text": [
      "Episode: 8200, Total Reward: 0.0, Epsilon: 0.4404135959744933\n"
     ]
    },
    {
     "name": "stderr",
     "output_type": "stream",
     "text": [
      "Progress:  83%|████████▎ | 8300/10000 [22:53<03:20,  8.48it/s]"
     ]
    },
    {
     "name": "stdout",
     "output_type": "stream",
     "text": [
      "Episode: 8300, Total Reward: 0.0, Epsilon: 0.4360311894452362\n"
     ]
    },
    {
     "name": "stderr",
     "output_type": "stream",
     "text": [
      "Progress:  84%|████████▍ | 8403/10000 [23:08<02:18, 11.54it/s]"
     ]
    },
    {
     "name": "stdout",
     "output_type": "stream",
     "text": [
      "Episode: 8400, Total Reward: 0.0, Epsilon: 0.4316923907590687\n"
     ]
    },
    {
     "name": "stderr",
     "output_type": "stream",
     "text": [
      "Progress:  85%|████████▌ | 8502/10000 [23:23<02:53,  8.63it/s]"
     ]
    },
    {
     "name": "stdout",
     "output_type": "stream",
     "text": [
      "Episode: 8500, Total Reward: 0.0, Epsilon: 0.42739676598911336\n"
     ]
    },
    {
     "name": "stderr",
     "output_type": "stream",
     "text": [
      "Progress:  86%|████████▌ | 8603/10000 [23:36<01:58, 11.83it/s]"
     ]
    },
    {
     "name": "stdout",
     "output_type": "stream",
     "text": [
      "Episode: 8600, Total Reward: 0.0, Epsilon: 0.42314388552635285\n"
     ]
    },
    {
     "name": "stderr",
     "output_type": "stream",
     "text": [
      "Progress:  87%|████████▋ | 8701/10000 [23:49<03:47,  5.72it/s]"
     ]
    },
    {
     "name": "stdout",
     "output_type": "stream",
     "text": [
      "Episode: 8700, Total Reward: 0.0, Epsilon: 0.4189333240366638\n"
     ]
    },
    {
     "name": "stderr",
     "output_type": "stream",
     "text": [
      "Progress:  88%|████████▊ | 8802/10000 [24:02<03:09,  6.31it/s]"
     ]
    },
    {
     "name": "stdout",
     "output_type": "stream",
     "text": [
      "Episode: 8800, Total Reward: 0.0, Epsilon: 0.41476466041827703\n"
     ]
    },
    {
     "name": "stderr",
     "output_type": "stream",
     "text": [
      "Progress:  89%|████████▉ | 8902/10000 [24:18<01:45, 10.36it/s]"
     ]
    },
    {
     "name": "stdout",
     "output_type": "stream",
     "text": [
      "Episode: 8900, Total Reward: 0.0, Epsilon: 0.41063747775966636\n"
     ]
    },
    {
     "name": "stderr",
     "output_type": "stream",
     "text": [
      "Progress:  90%|█████████ | 9001/10000 [24:34<01:45,  9.47it/s]"
     ]
    },
    {
     "name": "stdout",
     "output_type": "stream",
     "text": [
      "Episode: 9000, Total Reward: 0.0, Epsilon: 0.4065513632978508\n"
     ]
    },
    {
     "name": "stderr",
     "output_type": "stream",
     "text": [
      "Progress:  91%|█████████ | 9100/10000 [24:50<02:45,  5.44it/s]"
     ]
    },
    {
     "name": "stdout",
     "output_type": "stream",
     "text": [
      "Episode: 9100, Total Reward: 0.0, Epsilon: 0.40250590837711264\n"
     ]
    },
    {
     "name": "stderr",
     "output_type": "stream",
     "text": [
      "Progress:  92%|█████████▏| 9201/10000 [25:08<01:51,  7.17it/s]"
     ]
    },
    {
     "name": "stdout",
     "output_type": "stream",
     "text": [
      "Episode: 9200, Total Reward: 0.0, Epsilon: 0.39850070840813034\n"
     ]
    },
    {
     "name": "stderr",
     "output_type": "stream",
     "text": [
      "Progress:  93%|█████████▎| 9301/10000 [25:22<01:24,  8.26it/s]"
     ]
    },
    {
     "name": "stdout",
     "output_type": "stream",
     "text": [
      "Episode: 9300, Total Reward: 0.0, Epsilon: 0.39453536282751267\n"
     ]
    },
    {
     "name": "stderr",
     "output_type": "stream",
     "text": [
      "Progress:  94%|█████████▍| 9401/10000 [25:38<01:34,  6.36it/s]"
     ]
    },
    {
     "name": "stdout",
     "output_type": "stream",
     "text": [
      "Episode: 9400, Total Reward: 0.0, Epsilon: 0.3906094750577395\n"
     ]
    },
    {
     "name": "stderr",
     "output_type": "stream",
     "text": [
      "Progress:  95%|█████████▌| 9500/10000 [25:55<01:35,  5.21it/s]"
     ]
    },
    {
     "name": "stdout",
     "output_type": "stream",
     "text": [
      "Episode: 9500, Total Reward: 0.0, Epsilon: 0.3867226524674988\n"
     ]
    },
    {
     "name": "stderr",
     "output_type": "stream",
     "text": [
      "Progress:  96%|█████████▌| 9601/10000 [26:11<01:09,  5.72it/s]"
     ]
    },
    {
     "name": "stdout",
     "output_type": "stream",
     "text": [
      "Episode: 9600, Total Reward: 0.0, Epsilon: 0.38287450633242015\n"
     ]
    },
    {
     "name": "stderr",
     "output_type": "stream",
     "text": [
      "Progress:  97%|█████████▋| 9701/10000 [26:30<00:38,  7.75it/s]"
     ]
    },
    {
     "name": "stdout",
     "output_type": "stream",
     "text": [
      "Episode: 9700, Total Reward: 0.0, Epsilon: 0.3790646517961982\n"
     ]
    },
    {
     "name": "stderr",
     "output_type": "stream",
     "text": [
      "Progress:  98%|█████████▊| 9799/10000 [26:48<00:27,  7.23it/s]"
     ]
    },
    {
     "name": "stdout",
     "output_type": "stream",
     "text": [
      "Episode: 9800, Total Reward: 0.0, Epsilon: 0.375292707832101\n"
     ]
    },
    {
     "name": "stderr",
     "output_type": "stream",
     "text": [
      "Progress:  99%|█████████▉| 9901/10000 [27:04<00:13,  7.32it/s]"
     ]
    },
    {
     "name": "stdout",
     "output_type": "stream",
     "text": [
      "Episode: 9900, Total Reward: 0.0, Epsilon: 0.37155829720486555\n"
     ]
    },
    {
     "name": "stderr",
     "output_type": "stream",
     "text": [
      "Progress: 100%|██████████| 10000/10000 [27:19<00:00,  6.10it/s]\n"
     ]
    },
    {
     "name": "stdout",
     "output_type": "stream",
     "text": [
      "Episode: 10000, Total Reward: 1.0, Epsilon: 0.3678610464329692\n",
      "Training completed.\n"
     ]
    },
    {
     "data": {
      "image/png": "[encoded data removed]",
      "text/plain": [
       "<Figure size 1200x600 with 2 Axes>"
      ]
     },
     "metadata": {},
     "output_type": "display_data"
    }
   ],
   "source": [
    "# Libraries for environments\n",
    "import gym\n",
    "from gym.envs.toy_text.frozen_lake import generate_random_map\n",
    "\n",
    "# Libraries for output display and plotting\n",
    "import numpy as np\n",
    "import random\n",
    "import torch\n",
    "import torch.nn as nn\n",
    "import torch.optim as optim\n",
    "from collections import deque\n",
    "from tqdm import tqdm\n",
    "\n",
    "# Generate a random map and create the Frozen Lake environment with `is_slippery=True`\n",
    "random_map = generate_random_map(size=7, p=0.3)\n",
    "env = gym.make(\"FrozenLake-v1\", desc=random_map, is_slippery=True, render_mode=\"rgb_array\")\n",
    "env.reset()\n",
    "env.render()\n",
    "\n",
    "# Wrap the environment with RecordVideo to capture video after training\n",
    "env = gym.wrappers.RecordVideo(env, video_folder='./video', episode_trigger=lambda x: x == num_episodes - 1)\n",
    "\n",
    "# Parameters\n",
    "state_size = env.observation_space.n  # Number of states\n",
    "action_size = env.action_space.n      # Number of actions\n",
    "learning_rate = 0.001\n",
    "\n",
    "# Define the neural network architecture\n",
    "class DQN(nn.Module):\n",
    "    def __init__(self, state_size, action_size):\n",
    "        super(DQN, self).__init__()\n",
    "        self.fc1 = nn.Linear(state_size, 64)\n",
    "        self.fc2 = nn.Linear(64, 64)\n",
    "        self.output = nn.Linear(64, action_size)\n",
    "\n",
    "    def forward(self, x):\n",
    "        x = torch.relu(self.fc1(x))\n",
    "        x = torch.relu(self.fc2(x))\n",
    "        return self.output(x)\n",
    "\n",
    "# Initialize the DQN model, loss function, and optimizer\n",
    "model = DQN(state_size, action_size)\n",
    "optimizer = optim.Adam(model.parameters(), lr=learning_rate)\n",
    "loss_fn = nn.MSELoss()\n",
    "\n",
    "# Experience replay parameters\n",
    "memory_size = 50000\n",
    "batch_size = 128\n",
    "replay_memory = deque(maxlen=memory_size)\n",
    "\n",
    "def store_experience(state, action, reward, next_state, done):\n",
    "    replay_memory.append((state, action, reward, next_state, done))\n",
    "\n",
    "# Epsilon-greedy parameters\n",
    "epsilon = 1.0        # Exploration rate (starts high)\n",
    "epsilon_min = 0.1    # Minimum exploration rate\n",
    "epsilon_decay = 0.9999 # Decay rate for epsilon\n",
    "\n",
    "def choose_action(state, epsilon):\n",
    "    if np.random.rand() <= epsilon:\n",
    "        return env.action_space.sample()  # Random action\n",
    "    with torch.no_grad():\n",
    "        q_values = model(torch.tensor(state, dtype=torch.float32))\n",
    "    return torch.argmax(q_values).item()  # Best action based on Q-values\n",
    "\n",
    "# Training parameters\n",
    "num_episodes = 10000  # Number of episodes to train\n",
    "gamma = 0.99         # Discount factor\n",
    "\n",
    "epsilon_values = []\n",
    "reward_values = []\n",
    "\n",
    "# Training loop\n",
    "for episode in tqdm(range(num_episodes), desc=\"Progress\"):\n",
    "    state = env.reset()\n",
    "    state = np.identity(state_size)[state:state+1]  # One-hot encoding of initial state\n",
    "    total_reward = 0\n",
    "    done = False\n",
    "\n",
    "    for step in range(100):\n",
    "        # Choose action\n",
    "        action = choose_action(state, epsilon)\n",
    "\n",
    "        # Take action and observe results\n",
    "        next_state, reward, done, _ = env.step(action)\n",
    "        next_state = np.identity(state_size)[next_state:next_state+1]  # One-hot encoding of next state\n",
    "\n",
    "        # Modified reward structure example\n",
    "        if done and reward == 0:  # Fell into a hole\n",
    "            reward = 0\n",
    "        elif done and reward == 1:  # Reached the goal\n",
    "            reward = 1\n",
    "\n",
    "        # Store experience in replay memory\n",
    "        store_experience(state, action, reward, next_state, done)\n",
    "\n",
    "        # Update state\n",
    "        state = next_state\n",
    "        total_reward += reward\n",
    "\n",
    "        # Sample random batch from memory and train\n",
    "        if len(replay_memory) >= batch_size:\n",
    "            minibatch = random.sample(replay_memory, batch_size)\n",
    "            states_mb = torch.tensor([exp[0][0] for exp in minibatch], dtype=torch.float32)\n",
    "            actions_mb = torch.tensor([exp[1] for exp in minibatch], dtype=torch.long)\n",
    "            rewards_mb = torch.tensor([exp[2] for exp in minibatch], dtype=torch.float32)\n",
    "            next_states_mb = torch.tensor([exp[3][0] for exp in minibatch], dtype=torch.float32)\n",
    "            dones_mb = torch.tensor([exp[4] for exp in minibatch], dtype=torch.float32)\n",
    "\n",
    "            # Predict Q-values for current states and next states\n",
    "            current_qs = model(states_mb)\n",
    "            next_qs = model(next_states_mb)\n",
    "\n",
    "            # Compute target Q-values\n",
    "            target_qs = current_qs.clone()\n",
    "            for i in range(batch_size):\n",
    "                if dones_mb[i]:\n",
    "                    target_qs[i, actions_mb[i]] = rewards_mb[i]\n",
    "                else:\n",
    "                    target_qs[i, actions_mb[i]] = rewards_mb[i] + gamma * torch.max(next_qs[i])\n",
    "\n",
    "            # Compute the loss and update the network\n",
    "            loss = loss_fn(current_qs, target_qs)\n",
    "            optimizer.zero_grad()\n",
    "            loss.backward()\n",
    "            optimizer.step()\n",
    "\n",
    "        if done:\n",
    "            break\n",
    "\n",
    "    # Decay epsilon\n",
    "    epsilon = max(epsilon_min, epsilon * epsilon_decay)\n",
    "\n",
    "    # Store values\n",
    "    epsilon_values.append(epsilon)\n",
    "    reward_values.append(total_reward)\n",
    "\n",
    "    # Display results occasionally\n",
    "    if (episode + 1) % 100 == 0:\n",
    "        tqdm.write(f\"Episode: {episode + 1}, Total Reward: {total_reward:.1f}, Epsilon: {epsilon}\")\n",
    "\n",
    "print(\"Training completed.\")\n",
    "\n",
    "# Plotting\n",
    "plt.figure(figsize=(12, 6))\n",
    "\n",
    "# Plot epsilon values\n",
    "plt.subplot(1, 2, 1)\n",
    "plt.plot(epsilon_values)\n",
    "plt.title('Epsilon Decay Over Episodes')\n",
    "plt.xlabel('Episode')\n",
    "plt.ylabel('Epsilon')\n",
    "\n",
    "# Plot reward values\n",
    "plt.subplot(1, 2, 2)\n",
    "plt.plot(reward_values)\n",
    "plt.title('Rewards Per Episodes')\n",
    "plt.xlabel('Episode')\n",
    "plt.ylabel('Total Reward')\n",
    "\n",
    "plt.tight_layout()\n",
    "plt.show()\n"
   ]
  },
  {
   "cell_type": "code",
   "execution_count": null,
   "metadata": {
    "colab": {
     "base_uri": "https://localhost:8080/",
     "height": 573
    },
    "id": "EUxlKrYgm-sj",
    "outputId": "4b9ba657-a533-4186-d197-99e327f28eef"
   },
   "outputs": [
    {
     "name": "stdout",
     "output_type": "stream",
     "text": [
      "Total Reward in test episode: 0.0\n"
     ]
    },
    {
     "name": "stderr",
     "output_type": "stream",
     "text": [
      "<ipython-input-11-e307aa12fda5>:63: UserWarning: To copy construct from a tensor, it is recommended to use sourceTensor.clone().detach() or sourceTensor.clone().detach().requires_grad_(True), rather than torch.tensor(sourceTensor).\n",
      "  q_values = model(torch.tensor(state, dtype=torch.float32))\n"
     ]
    },
    {
     "data": {
      "text/html": [
       "\n",
       "        <video width=\"640\" height=\"480\" controls>\n",
       "            <source src=\"data:video/mp4;base64,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\" type=\"video/mp4\" />\n",
       "        </video>\n",
       "        "
      ],
      "text/plain": [
       "<IPython.core.display.HTML object>"
      ]
     },
     "execution_count": 24,
     "metadata": {},
     "output_type": "execute_result"
    }
   ],
   "source": [
    "# Run a post-training episode to capture video\n",
    "state = env.reset()\n",
    "done = False\n",
    "total_reward = 0\n",
    "while not done:\n",
    "    state_tensor = torch.tensor(np.identity(state_size)[state:state+1], dtype=torch.float32)\n",
    "    action = choose_action(state_tensor, epsilon=0.1)  # Exploit learned policy\n",
    "    next_state, reward, done, _ = env.step(action)\n",
    "    total_reward += reward\n",
    "    state = next_state\n",
    "\n",
    "env.close()\n",
    "print(f\"Total Reward in test episode: {total_reward}\")  # Display final reward\n",
    "\n",
    "# Function to display the video in Jupyter Notebook\n",
    "def display_video(video_path):\n",
    "    video = io.open(video_path, 'r+b').read()\n",
    "    encoded = base64.b64encode(video)\n",
    "    return HTML(data=f'''\n",
    "        <video width=\"640\" height=\"480\" controls>\n",
    "            <source src=\"data:video/mp4;base64,{encoded.decode('ascii')}\" type=\"video/mp4\" />\n",
    "        </video>\n",
    "        ''')\n",
    "\n",
    "# Locate the recorded video\n",
    "import os\n",
    "from pathlib import Path\n",
    "\n",
    "video_path = sorted(Path('./video').glob(\"*.mp4\"), key=os.path.getmtime)[-1]\n",
    "display_video(str(video_path))"
   ]
  },
  {
   "cell_type": "code",
   "execution_count": null,
   "metadata": {
    "colab": {
     "base_uri": "https://localhost:8080/",
     "height": 653
    },
    "id": "s8JnS1vz2OOs",
    "outputId": "6157030a-ac54-44e0-e9ca-29e414e96d5e"
   },
   "outputs": [
    {
     "name": "stderr",
     "output_type": "stream",
     "text": [
      "/usr/local/lib/python3.10/dist-packages/gym/core.py:317: DeprecationWarning: \u001b[33mWARN: Initializing wrapper in old step API which returns one bool instead of two. It is recommended to set `new_step_api=True` to use new step API. This will be the default behaviour in future.\u001b[0m\n",
      "  deprecation(\n",
      "/usr/local/lib/python3.10/dist-packages/gym/wrappers/step_api_compatibility.py:39: DeprecationWarning: \u001b[33mWARN: Initializing environment in old step API which returns one bool instead of two. It is recommended to set `new_step_api=True` to use new step API. This will be the default behaviour in future.\u001b[0m\n",
      "  deprecation(\n",
      "/usr/local/lib/python3.10/dist-packages/gym/wrappers/record_video.py:78: UserWarning: \u001b[33mWARN: Overwriting existing videos at /content/video folder (try specifying a different `video_folder` for the `RecordVideo` wrapper if this is not desired)\u001b[0m\n",
      "  logger.warn(\n",
      "Progress:   0%|          | 0/1000 [00:00<?, ?it/s]/usr/local/lib/python3.10/dist-packages/gym/utils/passive_env_checker.py:241: DeprecationWarning: `np.bool8` is a deprecated alias for `np.bool_`.  (Deprecated NumPy 1.24)\n",
      "  if not isinstance(terminated, (bool, np.bool8)):\n",
      "Progress:  57%|█████▋    | 566/1000 [00:58<00:54,  7.95it/s]"
     ]
    },
    {
     "name": "stdout",
     "output_type": "stream",
     "text": [
      "Successful Episode: 564, Total Reward: 1.0, Epsilon: 0.5681995006020529\n",
      "Successful Episode: 564, Total Reward: 1.0, Epsilon: 0.5681995006020529\n"
     ]
    },
    {
     "name": "stderr",
     "output_type": "stream",
     "text": [
      "Progress:  59%|█████▉    | 588/1000 [01:01<01:00,  6.76it/s]"
     ]
    },
    {
     "name": "stdout",
     "output_type": "stream",
     "text": [
      "Successful Episode: 587, Total Reward: 1.0, Epsilon: 0.5552736652928869\n",
      "Successful Episode: 587, Total Reward: 1.0, Epsilon: 0.5552736652928869\n"
     ]
    },
    {
     "name": "stderr",
     "output_type": "stream",
     "text": [
      "Progress:  83%|████████▎ | 830/1000 [01:35<00:19,  8.71it/s]\n"
     ]
    },
    {
     "ename": "KeyboardInterrupt",
     "evalue": "",
     "output_type": "error",
     "traceback": [
      "\u001b[0;31m---------------------------------------------------------------------------\u001b[0m",
      "\u001b[0;31mKeyboardInterrupt\u001b[0m                         Traceback (most recent call last)",
      "\u001b[0;32m<ipython-input-52-cb578b801669>\u001b[0m in \u001b[0;36m<cell line: 97>\u001b[0;34m()\u001b[0m\n\u001b[1;32m    145\u001b[0m             \u001b[0mloss\u001b[0m \u001b[0;34m=\u001b[0m \u001b[0mloss_fn\u001b[0m\u001b[0;34m(\u001b[0m\u001b[0mcurrent_qs\u001b[0m\u001b[0;34m,\u001b[0m \u001b[0mtarget_qs\u001b[0m\u001b[0;34m)\u001b[0m\u001b[0;34m\u001b[0m\u001b[0;34m\u001b[0m\u001b[0m\n\u001b[1;32m    146\u001b[0m             \u001b[0moptimizer\u001b[0m\u001b[0;34m.\u001b[0m\u001b[0mzero_grad\u001b[0m\u001b[0;34m(\u001b[0m\u001b[0;34m)\u001b[0m\u001b[0;34m\u001b[0m\u001b[0;34m\u001b[0m\u001b[0m\n\u001b[0;32m--> 147\u001b[0;31m             \u001b[0mloss\u001b[0m\u001b[0;34m.\u001b[0m\u001b[0mbackward\u001b[0m\u001b[0;34m(\u001b[0m\u001b[0;34m)\u001b[0m\u001b[0;34m\u001b[0m\u001b[0;34m\u001b[0m\u001b[0m\n\u001b[0m\u001b[1;32m    148\u001b[0m             \u001b[0moptimizer\u001b[0m\u001b[0;34m.\u001b[0m\u001b[0mstep\u001b[0m\u001b[0;34m(\u001b[0m\u001b[0;34m)\u001b[0m\u001b[0;34m\u001b[0m\u001b[0;34m\u001b[0m\u001b[0m\n\u001b[1;32m    149\u001b[0m \u001b[0;34m\u001b[0m\u001b[0m\n",
      "\u001b[0;32m/usr/local/lib/python3.10/dist-packages/torch/_tensor.py\u001b[0m in \u001b[0;36mbackward\u001b[0;34m(self, gradient, retain_graph, create_graph, inputs)\u001b[0m\n\u001b[1;32m    579\u001b[0m                 \u001b[0minputs\u001b[0m\u001b[0;34m=\u001b[0m\u001b[0minputs\u001b[0m\u001b[0;34m,\u001b[0m\u001b[0;34m\u001b[0m\u001b[0;34m\u001b[0m\u001b[0m\n\u001b[1;32m    580\u001b[0m             )\n\u001b[0;32m--> 581\u001b[0;31m         torch.autograd.backward(\n\u001b[0m\u001b[1;32m    582\u001b[0m             \u001b[0mself\u001b[0m\u001b[0;34m,\u001b[0m \u001b[0mgradient\u001b[0m\u001b[0;34m,\u001b[0m \u001b[0mretain_graph\u001b[0m\u001b[0;34m,\u001b[0m \u001b[0mcreate_graph\u001b[0m\u001b[0;34m,\u001b[0m \u001b[0minputs\u001b[0m\u001b[0;34m=\u001b[0m\u001b[0minputs\u001b[0m\u001b[0;34m\u001b[0m\u001b[0;34m\u001b[0m\u001b[0m\n\u001b[1;32m    583\u001b[0m         )\n",
      "\u001b[0;32m/usr/local/lib/python3.10/dist-packages/torch/autograd/__init__.py\u001b[0m in \u001b[0;36mbackward\u001b[0;34m(tensors, grad_tensors, retain_graph, create_graph, grad_variables, inputs)\u001b[0m\n\u001b[1;32m    345\u001b[0m     \u001b[0;31m# some Python versions print out the first line of a multi-line function\u001b[0m\u001b[0;34m\u001b[0m\u001b[0;34m\u001b[0m\u001b[0m\n\u001b[1;32m    346\u001b[0m     \u001b[0;31m# calls in the traceback and some print out the last line\u001b[0m\u001b[0;34m\u001b[0m\u001b[0;34m\u001b[0m\u001b[0m\n\u001b[0;32m--> 347\u001b[0;31m     _engine_run_backward(\n\u001b[0m\u001b[1;32m    348\u001b[0m         \u001b[0mtensors\u001b[0m\u001b[0;34m,\u001b[0m\u001b[0;34m\u001b[0m\u001b[0;34m\u001b[0m\u001b[0m\n\u001b[1;32m    349\u001b[0m         \u001b[0mgrad_tensors_\u001b[0m\u001b[0;34m,\u001b[0m\u001b[0;34m\u001b[0m\u001b[0;34m\u001b[0m\u001b[0m\n",
      "\u001b[0;32m/usr/local/lib/python3.10/dist-packages/torch/autograd/graph.py\u001b[0m in \u001b[0;36m_engine_run_backward\u001b[0;34m(t_outputs, *args, **kwargs)\u001b[0m\n\u001b[1;32m    823\u001b[0m         \u001b[0munregister_hooks\u001b[0m \u001b[0;34m=\u001b[0m \u001b[0m_register_logging_hooks_on_whole_graph\u001b[0m\u001b[0;34m(\u001b[0m\u001b[0mt_outputs\u001b[0m\u001b[0;34m)\u001b[0m\u001b[0;34m\u001b[0m\u001b[0;34m\u001b[0m\u001b[0m\n\u001b[1;32m    824\u001b[0m     \u001b[0;32mtry\u001b[0m\u001b[0;34m:\u001b[0m\u001b[0;34m\u001b[0m\u001b[0;34m\u001b[0m\u001b[0m\n\u001b[0;32m--> 825\u001b[0;31m         return Variable._execution_engine.run_backward(  # Calls into the C++ engine to run the backward pass\n\u001b[0m\u001b[1;32m    826\u001b[0m             \u001b[0mt_outputs\u001b[0m\u001b[0;34m,\u001b[0m \u001b[0;34m*\u001b[0m\u001b[0margs\u001b[0m\u001b[0;34m,\u001b[0m \u001b[0;34m**\u001b[0m\u001b[0mkwargs\u001b[0m\u001b[0;34m\u001b[0m\u001b[0;34m\u001b[0m\u001b[0m\n\u001b[1;32m    827\u001b[0m         )  # Calls into the C++ engine to run the backward pass\n",
      "\u001b[0;31mKeyboardInterrupt\u001b[0m: "
     ]
    }
   ],
   "source": [
    "# Libraries for environments\n",
    "import gym\n",
    "from gym.envs.toy_text.frozen_lake import generate_random_map\n",
    "\n",
    "# Libraries for output display and plotting\n",
    "import numpy as np\n",
    "import random\n",
    "import torch\n",
    "import torch.nn as nn\n",
    "import torch.optim as optim\n",
    "from collections import deque\n",
    "from tqdm import tqdm\n",
    "import matplotlib.pyplot as plt\n",
    "from pathlib import Path\n",
    "from IPython.display import HTML\n",
    "import base64\n",
    "import os\n",
    "\n",
    "\n",
    "video_folder = './video'\n",
    "if os.path.exists(video_folder):\n",
    "    import shutil\n",
    "    shutil.rmtree(video_folder)\n",
    "os.makedirs(video_folder, exist_ok=True)\n",
    "\n",
    "global recording\n",
    "recording = False\n",
    "\n",
    "global successes\n",
    "successes = set()\n",
    "\n",
    "# Generate a random map and create the Frozen Lake environment with `is_slippery=True`\n",
    "random_map = generate_random_map(size=4, p=0.3)\n",
    "env = gym.make(\"FrozenLake-v1\", desc=random_map, is_slippery=True, render_mode=\"rgb_array\")\n",
    "env.reset()\n",
    "env.render()\n",
    "\n",
    "def record_working(episode_num):\n",
    "    return episode_num in successes\n",
    "\n",
    "# Wrap the environment with RecordVideo to capture video after training\n",
    "env = gym.wrappers.RecordVideo(env, video_folder=video_folder, episode_trigger=record_working)\n",
    "\n",
    "# Parameters\n",
    "state_size = env.observation_space.n  # Number of states\n",
    "action_size = env.action_space.n      # Number of actions\n",
    "learning_rate = 0.001\n",
    "\n",
    "# Define the neural network architecture\n",
    "class DQN(nn.Module):\n",
    "    def __init__(self, state_size, action_size):\n",
    "        super(DQN, self).__init__()\n",
    "        self.fc1 = nn.Linear(state_size, 64)\n",
    "        self.fc2 = nn.Linear(64, 64)\n",
    "        self.output = nn.Linear(64, action_size)\n",
    "\n",
    "    def forward(self, x):\n",
    "        x = torch.relu(self.fc1(x))\n",
    "        x = torch.relu(self.fc2(x))\n",
    "        return self.output(x)\n",
    "\n",
    "# Initialize the DQN model, loss function, and optimizer\n",
    "model = DQN(state_size, action_size)\n",
    "optimizer = optim.Adam(model.parameters(), lr=learning_rate)\n",
    "loss_fn = nn.MSELoss()\n",
    "\n",
    "# Experience replay parameters\n",
    "memory_size = 1000\n",
    "batch_size = 128\n",
    "replay_memory = deque(maxlen=memory_size)\n",
    "\n",
    "def store_experience(state, action, reward, next_state, done):\n",
    "    replay_memory.append((state, action, reward, next_state, done))\n",
    "\n",
    "# Epsilon-greedy parameters\n",
    "epsilon = 1.0        # Exploration rate (starts high)\n",
    "epsilon_min = 0.1    # Minimum exploration rate\n",
    "epsilon_decay = 0.999 # Decay rate for epsilon\n",
    "\n",
    "def choose_action(state, epsilon):\n",
    "    if np.random.rand() <= epsilon:\n",
    "        return env.action_space.sample()  # Random action\n",
    "    with torch.no_grad():\n",
    "        q_values = model(torch.tensor(state, dtype=torch.float32))\n",
    "    return torch.argmax(q_values).item()  # Best action based on Q-values\n",
    "\n",
    "# Training parameters\n",
    "num_episodes = 1000  # Number of episodes to train\n",
    "gamma = 0.99         # Discount factor\n",
    "\n",
    "epsilon_values = []\n",
    "reward_values = []\n",
    "\n",
    "recorded_rewards = {}\n",
    "\n",
    "# Training loop\n",
    "for episode in tqdm(range(num_episodes), desc=\"Progress\"):\n",
    "    state = env.reset()\n",
    "    state = np.identity(state_size)[state:state+1]  # One-hot encoding of initial state\n",
    "    total_reward = 0\n",
    "    done = False\n",
    "\n",
    "    successful = False\n",
    "\n",
    "    for step in range(100):\n",
    "        # Choose action\n",
    "        action = choose_action(state, epsilon)\n",
    "\n",
    "        # Take action and observe results\n",
    "        next_state, reward, done, _ = env.step(action)\n",
    "        next_state = np.identity(state_size)[next_state:next_state+1]  # One-hot encoding of next state\n",
    "\n",
    "        if done and reward == 1:\n",
    "            successful = True\n",
    "\n",
    "        # Store experience in replay memory\n",
    "        store_experience(state, action, reward, next_state, done)\n",
    "\n",
    "        # Update state\n",
    "        state = next_state\n",
    "        total_reward += reward\n",
    "\n",
    "        # Sample random batch from memory and train\n",
    "        if len(replay_memory) >= batch_size:\n",
    "            minibatch = random.sample(replay_memory, batch_size)\n",
    "            states_mb = torch.tensor([exp[0][0] for exp in minibatch], dtype=torch.float32)\n",
    "            actions_mb = torch.tensor([exp[1] for exp in minibatch], dtype=torch.long)\n",
    "            rewards_mb = torch.tensor([exp[2] for exp in minibatch], dtype=torch.float32)\n",
    "            next_states_mb = torch.tensor([exp[3][0] for exp in minibatch], dtype=torch.float32)\n",
    "            dones_mb = torch.tensor([exp[4] for exp in minibatch], dtype=torch.float32)\n",
    "\n",
    "            # Predict Q-values for current states and next states\n",
    "            current_qs = model(states_mb)\n",
    "            next_qs = model(next_states_mb)\n",
    "\n",
    "            # Compute target Q-values\n",
    "            target_qs = current_qs.clone()\n",
    "            for i in range(batch_size):\n",
    "                if dones_mb[i]:\n",
    "                    target_qs[i, actions_mb[i]] = rewards_mb[i]\n",
    "                else:\n",
    "                    target_qs[i, actions_mb[i]] = rewards_mb[i] + gamma * torch.max(next_qs[i])\n",
    "\n",
    "            # Compute the loss and update the network\n",
    "            loss = loss_fn(current_qs, target_qs)\n",
    "            optimizer.zero_grad()\n",
    "            loss.backward()\n",
    "            optimizer.step()\n",
    "\n",
    "        if done:\n",
    "            break\n",
    "\n",
    "    # Decay epsilon\n",
    "    epsilon = max(epsilon_min, epsilon * epsilon_decay)\n",
    "\n",
    "    # Store values\n",
    "    epsilon_values.append(epsilon)\n",
    "    reward_values.append(total_reward)\n",
    "\n",
    "    if successful:\n",
    "        successes.add(episode)\n",
    "        tqdm.write(f\"Successful Episode: {episode}, Total Reward: {total_reward:.1f}, Epsilon: {epsilon}\")\n",
    "        recorded_rewards[episode] = total_reward\n",
    "\n",
    "    # Display results occasionally\n",
    "    if total_reward == 1:  # Print only successful episodes where reward is 1\n",
    "      tqdm.write(f\"Successful Episode: {episode}, Total Reward: {total_reward:.1f}, Epsilon: {epsilon}\")\n",
    "\n",
    "\n",
    "print(\"Training completed.\")\n",
    "\n",
    "# Plotting\n",
    "plt.figure(figsize=(12, 6))\n",
    "\n",
    "# Plot epsilon values\n",
    "plt.subplot(1, 2, 1)\n",
    "plt.plot(epsilon_values)\n",
    "plt.title('Epsilon Decay Over Episodes')\n",
    "plt.xlabel('Episode')\n",
    "plt.ylabel('Epsilon')\n",
    "\n",
    "# Plot reward values\n",
    "plt.subplot(1, 2, 2)\n",
    "plt.plot(reward_values)\n",
    "plt.title('Rewards Per Episodes')\n",
    "plt.xlabel('Episode')\n",
    "plt.ylabel('Total Reward')\n",
    "\n",
    "plt.tight_layout()\n",
    "plt.show()\n"
   ]
  },
  {
   "cell_type": "code",
   "execution_count": null,
   "metadata": {
    "id": "T_VMVwK22xvk"
   },
   "outputs": [],
   "source": [
    "# # Run a post-training episode to capture video\n",
    "# state = env.reset()\n",
    "# done = False\n",
    "# total_reward = 0\n",
    "\n",
    "# while not done:\n",
    "#     state_tensor = torch.tensor(np.eye(state_size)[state], dtype=torch.float32)\n",
    "#     action = choose_action(state_tensor, epsilon=0.1)  # Exploit learned policy\n",
    "#     next_state, reward, done, _ = env.step(action)\n",
    "#     total_reward += reward\n",
    "#     state = next_state\n",
    "\n",
    "# env.close()\n",
    "# print(f\"Total Reward in test episode: {total_reward}\")  # Display final reward\n",
    "\n",
    "# # Display the video\n",
    "# def display_video(video_path):\n",
    "#     with open(video_path, 'rb') as video_file:\n",
    "#         video = video_file.read()\n",
    "#     encoded = base64.b64encode(video).decode('ascii')\n",
    "#     return HTML(data=f'''\n",
    "#         <video width=\"640\" height=\"480\" controls>\n",
    "#             <source src=\"data:video/mp4;base64,{encoded}\" type=\"video/mp4\" />\n",
    "#         </video>\n",
    "#     ''')\n",
    "\n",
    "# # Locate the recorded video and display it\n",
    "# video_path = sorted(Path('./video').glob(\"*.mp4\"), key=os.path.getmtime)[-1]\n",
    "# display_video(str(video_path))"
   ]
  },
  {
   "cell_type": "code",
   "execution_count": null,
   "metadata": {
    "colab": {
     "base_uri": "https://localhost:8080/",
     "height": 366
    },
    "id": "FSjwy8CgJkJb",
    "outputId": "3b86025c-34e5-4380-b2e3-638c9167f38a"
   },
   "outputs": [
    {
     "name": "stdout",
     "output_type": "stream",
     "text": [
      "Last successful video: episode_993.mp4\n"
     ]
    },
    {
     "ename": "FileNotFoundError",
     "evalue": "[Errno 2] No such file or directory: 'video/rl-video-episode-824.mp4'",
     "output_type": "error",
     "traceback": [
      "\u001b[0;31m---------------------------------------------------------------------------\u001b[0m",
      "\u001b[0;31mFileNotFoundError\u001b[0m                         Traceback (most recent call last)",
      "\u001b[0;32m<ipython-input-48-fae0cb04623c>\u001b[0m in \u001b[0;36m<cell line: 2>\u001b[0;34m()\u001b[0m\n\u001b[1;32m     15\u001b[0m \u001b[0;34m\u001b[0m\u001b[0m\n\u001b[1;32m     16\u001b[0m     \u001b[0;31m# Display the video\u001b[0m\u001b[0;34m\u001b[0m\u001b[0;34m\u001b[0m\u001b[0m\n\u001b[0;32m---> 17\u001b[0;31m     \u001b[0mdisplay_video\u001b[0m\u001b[0;34m(\u001b[0m\u001b[0mstr\u001b[0m\u001b[0;34m(\u001b[0m\u001b[0mvideo_path\u001b[0m\u001b[0;34m)\u001b[0m\u001b[0;34m)\u001b[0m\u001b[0;34m\u001b[0m\u001b[0;34m\u001b[0m\u001b[0m\n\u001b[0m\u001b[1;32m     18\u001b[0m \u001b[0;32melse\u001b[0m\u001b[0;34m:\u001b[0m\u001b[0;34m\u001b[0m\u001b[0;34m\u001b[0m\u001b[0m\n\u001b[1;32m     19\u001b[0m     \u001b[0mprint\u001b[0m\u001b[0;34m(\u001b[0m\u001b[0;34m\"No successful videos found.\"\u001b[0m\u001b[0;34m)\u001b[0m\u001b[0;34m\u001b[0m\u001b[0;34m\u001b[0m\u001b[0m\n",
      "\u001b[0;32m<ipython-input-48-fae0cb04623c>\u001b[0m in \u001b[0;36mdisplay_video\u001b[0;34m(video_path)\u001b[0m\n\u001b[1;32m      5\u001b[0m \u001b[0;34m\u001b[0m\u001b[0m\n\u001b[1;32m      6\u001b[0m     \u001b[0;32mdef\u001b[0m \u001b[0mdisplay_video\u001b[0m\u001b[0;34m(\u001b[0m\u001b[0mvideo_path\u001b[0m\u001b[0;34m)\u001b[0m\u001b[0;34m:\u001b[0m\u001b[0;34m\u001b[0m\u001b[0;34m\u001b[0m\u001b[0m\n\u001b[0;32m----> 7\u001b[0;31m         \u001b[0;32mwith\u001b[0m \u001b[0mopen\u001b[0m\u001b[0;34m(\u001b[0m\u001b[0mvideo_path\u001b[0m\u001b[0;34m,\u001b[0m \u001b[0;34m'rb'\u001b[0m\u001b[0;34m)\u001b[0m \u001b[0;32mas\u001b[0m \u001b[0mvideo_file\u001b[0m\u001b[0;34m:\u001b[0m\u001b[0;34m\u001b[0m\u001b[0;34m\u001b[0m\u001b[0m\n\u001b[0m\u001b[1;32m      8\u001b[0m             \u001b[0mvideo\u001b[0m \u001b[0;34m=\u001b[0m \u001b[0mvideo_file\u001b[0m\u001b[0;34m.\u001b[0m\u001b[0mread\u001b[0m\u001b[0;34m(\u001b[0m\u001b[0;34m)\u001b[0m\u001b[0;34m\u001b[0m\u001b[0;34m\u001b[0m\u001b[0m\n\u001b[1;32m      9\u001b[0m         \u001b[0mencoded\u001b[0m \u001b[0;34m=\u001b[0m \u001b[0mbase64\u001b[0m\u001b[0;34m.\u001b[0m\u001b[0mb64encode\u001b[0m\u001b[0;34m(\u001b[0m\u001b[0mvideo\u001b[0m\u001b[0;34m)\u001b[0m\u001b[0;34m.\u001b[0m\u001b[0mdecode\u001b[0m\u001b[0;34m(\u001b[0m\u001b[0;34m'ascii'\u001b[0m\u001b[0;34m)\u001b[0m\u001b[0;34m\u001b[0m\u001b[0;34m\u001b[0m\u001b[0m\n",
      "\u001b[0;31mFileNotFoundError\u001b[0m: [Errno 2] No such file or directory: 'video/rl-video-episode-824.mp4'"
     ]
    }
   ],
   "source": [
    "successful_videos = [video for video, reward in recorded_rewards.items() if reward == 1]\n",
    "if successful_videos:\n",
    "    last_successful_video = sorted(successful_videos)[-1]\n",
    "    print(f\"Last successful video: {last_successful_video}\")\n",
    "\n",
    "    def display_video(video_path):\n",
    "        with open(video_path, 'rb') as video_file:\n",
    "            video = video_file.read()\n",
    "        encoded = base64.b64encode(video).decode('ascii')\n",
    "        return HTML(data=f'''\n",
    "            <video width=\"640\" height=\"480\" controls>\n",
    "                <source src=\"data:video/mp4;base64,{encoded}\" type=\"video/mp4\" />\n",
    "            </video>\n",
    "        ''')\n",
    "\n",
    "    # Display the video\n",
    "    display_video(str(video_path))\n",
    "else:\n",
    "    print(\"No successful videos found.\")"
   ]
  },
  {
   "cell_type": "markdown",
   "metadata": {
    "id": "TRUL5YlXX59L"
   },
   "source": []
  },
  {
   "cell_type": "markdown",
   "metadata": {},
   "source": [
    "# WORKING !!!!!!!!!!!!!!!!!"
   ]
  },
  {
   "cell_type": "markdown",
   "metadata": {
    "id": "X6-B61y12p1M",
    "jp-MarkdownHeadingCollapsed": true
   },
   "source": [
    "### 4x4"
   ]
  },
  {
   "cell_type": "code",
   "execution_count": 7,
   "metadata": {
    "jupyter": {
     "source_hidden": true
    }
   },
   "outputs": [],
   "source": [
    "# # delete video folder\n",
    "# import shutil\n",
    "# folder_path = \"./video\"  # Adjust this to the exact path of the folder\n",
    "# shutil.rmtree(folder_path)"
   ]
  },
  {
   "cell_type": "code",
   "execution_count": 10,
   "metadata": {
    "id": "d1OTH_qp2uYb"
   },
   "outputs": [
    {
     "name": "stderr",
     "output_type": "stream",
     "text": [
      "Progress: 100%|█████████████████████████████| 5000/5000 [02:57<00:00, 28.13it/s]\n"
     ]
    },
    {
     "name": "stdout",
     "output_type": "stream",
     "text": [
      "Training completed.\n"
     ]
    },
    {
     "data": {
      "image/png": "[encoded data removed]",
      "text/plain": [
       "<Figure size 1200x600 with 2 Axes>"
      ]
     },
     "metadata": {},
     "output_type": "display_data"
    }
   ],
   "source": [
    "# Libraries for environments\n",
    "import gym\n",
    "from gym.envs.toy_text.frozen_lake import generate_random_map\n",
    "\n",
    "# Libraries for output display and plotting\n",
    "import numpy as np\n",
    "import random\n",
    "import torch\n",
    "import torch.nn as nn\n",
    "import torch.optim as optim\n",
    "from collections import deque\n",
    "from tqdm import tqdm\n",
    "import matplotlib.pyplot as plt\n",
    "\n",
    "# Generate a random map and create the Frozen Lake environment with is_slippery=True\n",
    "random_map = generate_random_map(size=4, p=0.3)\n",
    "env = gym.make(\"FrozenLake-v1\", desc=random_map, is_slippery=True, render_mode=\"rgb_array\")\n",
    "env.reset()\n",
    "env.render()\n",
    "\n",
    "# Wrap the environment with RecordVideo to capture video after training\n",
    "# env = gym.wrappers.RecordVideo(env, video_folder='./video', episode_trigger=lambda x: (x+1) % 10 == 0)\n",
    "\n",
    "# Parameters\n",
    "state_size = env.observation_space.n  # Number of states\n",
    "action_size = env.action_space.n      # Number of actions\n",
    "learning_rate = 0.001\n",
    "\n",
    "# Define the neural network architecture\n",
    "class DQN(nn.Module):\n",
    "    def __init__(self, state_size, action_size):\n",
    "        super(DQN, self).__init__()\n",
    "        self.fc1 = nn.Linear(state_size, 64)\n",
    "        self.fc2 = nn.Linear(64, 64)\n",
    "        self.output = nn.Linear(64, action_size)\n",
    "\n",
    "    def forward(self, x):\n",
    "        x = torch.relu(self.fc1(x))\n",
    "        x = torch.relu(self.fc2(x))\n",
    "        return self.output(x)\n",
    "\n",
    "# Initialize the DQN model, loss function, and optimizer\n",
    "model = DQN(state_size, action_size)\n",
    "optimizer = optim.Adam(model.parameters(), lr=learning_rate)\n",
    "loss_fn = nn.MSELoss()\n",
    "\n",
    "# Experience replay parameters\n",
    "memory_size = 5000\n",
    "batch_size = 128\n",
    "replay_memory = deque(maxlen=memory_size)\n",
    "\n",
    "def store_experience(state, action, reward, next_state, done):\n",
    "    replay_memory.append((state, action, reward, next_state, done))\n",
    "\n",
    "# Epsilon-greedy parameters\n",
    "epsilon = 1.0        # Exploration rate (starts high)\n",
    "epsilon_min = 0.1    # Minimum exploration rate\n",
    "epsilon_decay = 0.999 # Decay rate for epsilon\n",
    "\n",
    "def choose_action(state, epsilon):\n",
    "    if np.random.rand() <= epsilon:\n",
    "        return env.action_space.sample()  # Random action\n",
    "    with torch.no_grad():\n",
    "        q_values = model(torch.tensor(state, dtype=torch.float32))\n",
    "    return torch.argmax(q_values).item()  # Best action based on Q-values\n",
    "\n",
    "# Training parameters\n",
    "num_episodes = 5000  # Number of episodes to train\n",
    "gamma = 0.99         # Discount factor\n",
    "\n",
    "epsilon_values = []\n",
    "reward_values = []\n",
    "\n",
    "# Training loop\n",
    "for episode in tqdm(range(num_episodes), desc=\"Progress\"):\n",
    "    state, _ = env.reset()\n",
    "    state = np.identity(state_size)[state:state+1]  # One-hot encoding of initial state\n",
    "    total_reward = 0\n",
    "    done = False\n",
    "\n",
    "    for step in range(100):\n",
    "        # Choose action\n",
    "        action = choose_action(state, epsilon)\n",
    "\n",
    "        # Take action and observe results\n",
    "        next_state, reward, done, _, _ = env.step(action)\n",
    "        next_state = np.identity(state_size)[next_state:next_state+1]  # One-hot encoding of next state\n",
    "\n",
    "        # Modified reward structure example\n",
    "        if done and reward == 0:  # Fell into a hole\n",
    "            reward = 0\n",
    "        elif done and reward == 1:  # Reached the goal\n",
    "            reward = 1\n",
    "\n",
    "        # Store experience in replay memory\n",
    "        store_experience(state, action, reward, next_state, done)\n",
    "\n",
    "        # Update state\n",
    "        state = next_state\n",
    "        total_reward += reward\n",
    "\n",
    "        # Sample random batch from memory and train\n",
    "        if len(replay_memory) >= batch_size:\n",
    "            minibatch = random.sample(replay_memory, batch_size)\n",
    "            states_mb = torch.tensor([exp[0][0] for exp in minibatch], dtype=torch.float32)\n",
    "            actions_mb = torch.tensor([exp[1] for exp in minibatch], dtype=torch.long)\n",
    "            rewards_mb = torch.tensor([exp[2] for exp in minibatch], dtype=torch.float32)\n",
    "            next_states_mb = torch.tensor([exp[3][0] for exp in minibatch], dtype=torch.float32)\n",
    "            dones_mb = torch.tensor([exp[4] for exp in minibatch], dtype=torch.float32)\n",
    "\n",
    "            # Predict Q-values for current states and next states\n",
    "            current_qs = model(states_mb)\n",
    "            next_qs = model(next_states_mb)\n",
    "\n",
    "            # Compute target Q-values\n",
    "            target_qs = current_qs.clone()\n",
    "            for i in range(batch_size):\n",
    "                if dones_mb[i]:\n",
    "                    target_qs[i, actions_mb[i]] = rewards_mb[i]\n",
    "                else:\n",
    "                    target_qs[i, actions_mb[i]] = rewards_mb[i] + gamma * torch.max(next_qs[i])\n",
    "\n",
    "            # Compute the loss and update the network\n",
    "            loss = loss_fn(current_qs, target_qs)\n",
    "            optimizer.zero_grad()\n",
    "            loss.backward()\n",
    "            optimizer.step()\n",
    "\n",
    "        if done:\n",
    "            break\n",
    "\n",
    "    # Decay epsilon\n",
    "    epsilon = max(epsilon_min, epsilon * epsilon_decay)\n",
    "\n",
    "    # Store values\n",
    "    epsilon_values.append(epsilon)\n",
    "    reward_values.append(total_reward)\n",
    "\n",
    "    # # Display results occasionally\n",
    "    # if (episode + 1) % 10 == 0:\n",
    "    #     tqdm.write(f\"Episode: {episode + 1}, Total Reward: {total_reward:.1f}, Epsilon: {epsilon}\")\n",
    "\n",
    "print(\"Training completed.\")\n",
    "\n",
    "# Plotting\n",
    "plt.figure(figsize=(12, 6))\n",
    "\n",
    "# Plot epsilon values\n",
    "plt.subplot(1, 2, 1)\n",
    "plt.plot(epsilon_values)\n",
    "plt.title('Epsilon Decay Over Episodes')\n",
    "plt.xlabel('Episode')\n",
    "plt.ylabel('Epsilon')\n",
    "\n",
    "# Plot reward values\n",
    "plt.subplot(1, 2, 2)\n",
    "plt.plot(reward_values)\n",
    "plt.title('Rewards Per Episodes')\n",
    "plt.xlabel('Episode')\n",
    "plt.ylabel('Total Reward')\n",
    "\n",
    "plt.tight_layout()\n",
    "plt.show()"
   ]
  },
  {
   "cell_type": "code",
   "execution_count": 20,
   "metadata": {
    "collapsed": true,
    "id": "yylkplc523tK",
    "jupyter": {
     "outputs_hidden": true,
     "source_hidden": true
    },
    "scrolled": true
   },
   "outputs": [
    {
     "name": "stderr",
     "output_type": "stream",
     "text": [
      "/opt/anaconda3/lib/python3.12/site-packages/gym/wrappers/record_video.py:75: UserWarning: \u001b[33mWARN: Overwriting existing videos at /Users/Matka/video folder (try specifying a different `video_folder` for the `RecordVideo` wrapper if this is not desired)\u001b[0m\n",
      "  logger.warn(\n",
      "/var/folders/vs/96pv3sg15cs6fv1_pwr524x00000gp/T/ipykernel_64187/4017787369.py:64: UserWarning: To copy construct from a tensor, it is recommended to use sourceTensor.clone().detach() or sourceTensor.clone().detach().requires_grad_(True), rather than torch.tensor(sourceTensor).\n",
      "  q_values = model(torch.tensor(state, dtype=torch.float32))\n",
      "/opt/anaconda3/lib/python3.12/site-packages/gym/utils/passive_env_checker.py:233: DeprecationWarning: `np.bool8` is a deprecated alias for `np.bool_`.  (Deprecated NumPy 1.24)\n",
      "  if not isinstance(terminated, (bool, np.bool8)):\n"
     ]
    },
    {
     "name": "stdout",
     "output_type": "stream",
     "text": [
      "MoviePy - Building video /Users/Matka/video/rl-video-episode-0.mp4.\n",
      "MoviePy - Writing video /Users/Matka/video/rl-video-episode-0.mp4\n",
      "\n"
     ]
    },
    {
     "name": "stderr",
     "output_type": "stream",
     "text": [
      "                                                                                "
     ]
    },
    {
     "name": "stdout",
     "output_type": "stream",
     "text": [
      "MoviePy - Done !\n",
      "MoviePy - video ready /Users/Matka/video/rl-video-episode-0.mp4\n",
      "Total Reward in test episode: 1.0\n"
     ]
    },
    {
     "name": "stderr",
     "output_type": "stream",
     "text": [
      "\r"
     ]
    },
    {
     "data": {
      "text/html": [
       "\n",
       "        <video width=\"640\" height=\"480\" controls>\n",
       "            <source src=\"data:video/mp4;base64,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\" type=\"video/mp4\" />\n",
       "        </video>\n",
       "        "
      ],
      "text/plain": [
       "<IPython.core.display.HTML object>"
      ]
     },
     "execution_count": 20,
     "metadata": {},
     "output_type": "execute_result"
    }
   ],
   "source": [
    "env = gym.make(\"FrozenLake-v1\", desc=random_map, is_slippery=True, render_mode=\"rgb_array\")\n",
    "env = gym.wrappers.RecordVideo(env, video_folder='./video', episode_trigger=lambda x: True)\n",
    "\n",
    "# Run a post-training episode to capture video\n",
    "state , _= env.reset()\n",
    "done = False\n",
    "total_reward = 0\n",
    "while not done:\n",
    "    state_tensor = torch.tensor(np.identity(state_size)[state:state+1], dtype=torch.float32)\n",
    "    action = choose_action(state_tensor, epsilon=0.1)  # Exploit learned policy\n",
    "    next_state, reward, done, _, _ = env.step(action)\n",
    "    total_reward += reward\n",
    "    state = next_state\n",
    "\n",
    "env.close()\n",
    "print(f\"Total Reward in test episode: {total_reward}\")  # Display final reward\n",
    "\n",
    "# Function to display the video in Jupyter Notebook\n",
    "def display_video(video_path):\n",
    "    video = io.open(video_path, 'r+b').read()\n",
    "    encoded = base64.b64encode(video)\n",
    "    return HTML(data=f'''\n",
    "        <video width=\"640\" height=\"480\" controls>\n",
    "            <source src=\"data:video/mp4;base64,{encoded.decode('ascii')}\" type=\"video/mp4\" />\n",
    "        </video>\n",
    "        ''')\n",
    "\n",
    "# Locate the recorded video\n",
    "import os\n",
    "from pathlib import Path\n",
    "\n",
    "video_path = sorted(Path('./video').glob(\"*.mp4\"), key=os.path.getmtime)[-1]\n",
    "display_video(str(video_path))"
   ]
  },
  {
   "cell_type": "markdown",
   "metadata": {
    "jp-MarkdownHeadingCollapsed": true
   },
   "source": [
    "### 5x5"
   ]
  },
  {
   "cell_type": "code",
   "execution_count": 31,
   "metadata": {
    "jupyter": {
     "source_hidden": true
    }
   },
   "outputs": [],
   "source": [
    "# # delete video folder\n",
    "# import shutil\n",
    "# folder_path = \"./video2\"  # Adjust this to the exact path of the folder\n",
    "# shutil.rmtree(folder_path)"
   ]
  },
  {
   "cell_type": "code",
   "execution_count": 16,
   "metadata": {},
   "outputs": [
    {
     "name": "stderr",
     "output_type": "stream",
     "text": [
      "Progress: 100%|███████████████████████████| 50000/50000 [39:13<00:00, 21.24it/s]\n"
     ]
    },
    {
     "name": "stdout",
     "output_type": "stream",
     "text": [
      "Training completed.\n"
     ]
    },
    {
     "data": {
      "image/png": "[encoded data removed]",
      "text/plain": [
       "<Figure size 1200x600 with 2 Axes>"
      ]
     },
     "metadata": {},
     "output_type": "display_data"
    }
   ],
   "source": [
    "# Libraries for environments\n",
    "import gym\n",
    "from gym.envs.toy_text.frozen_lake import generate_random_map\n",
    "\n",
    "# Libraries for output display and plotting\n",
    "import numpy as np\n",
    "import random\n",
    "import torch\n",
    "import torch.nn as nn\n",
    "import torch.optim as optim\n",
    "from collections import deque \n",
    "from tqdm import tqdm\n",
    "import matplotlib.pyplot as plt\n",
    "\n",
    "# Generate a random map and create the Frozen Lake environment with is_slippery=True\n",
    "random_map = generate_random_map(size=5, p=0.3)\n",
    "env = gym.make(\"FrozenLake-v1\", desc=random_map, is_slippery=True, render_mode=\"rgb_array\")\n",
    "env.reset()\n",
    "env.render()\n",
    "\n",
    "# Wrap the environment with RecordVideo to capture video after training\n",
    "# env = gym.wrappers.RecordVideo(env, video_folder='./video2', episode_trigger=lambda x: (x+1) % 10 == 0)\n",
    "\n",
    "# Parameters\n",
    "state_size = env.observation_space.n  # Number of states\n",
    "action_size = env.action_space.n      # Number of actions\n",
    "learning_rate = 0.001\n",
    "\n",
    "# Define the neural network architecture\n",
    "class DQN(nn.Module):\n",
    "    def __init__(self, state_size, action_size):\n",
    "        super(DQN, self).__init__()\n",
    "        self.fc1 = nn.Linear(state_size, 64)\n",
    "        self.fc2 = nn.Linear(64, 64)\n",
    "        self.output = nn.Linear(64, action_size)\n",
    "\n",
    "    def forward(self, x):\n",
    "        x = torch.relu(self.fc1(x))\n",
    "        x = torch.relu(self.fc2(x))\n",
    "        return self.output(x)\n",
    "\n",
    "# Initialize the DQN model, loss function, and optimizer\n",
    "model = DQN(state_size, action_size)\n",
    "optimizer = optim.Adam(model.parameters(), lr=learning_rate)\n",
    "loss_fn = nn.MSELoss()\n",
    "\n",
    "# Experience replay parameters\n",
    "memory_size = 5000\n",
    "batch_size = 128\n",
    "replay_memory = deque(maxlen=memory_size)\n",
    "\n",
    "def store_experience(state, action, reward, next_state, done):\n",
    "    replay_memory.append((state, action, reward, next_state, done))\n",
    "\n",
    "# Epsilon-greedy parameters\n",
    "epsilon = 1.0        # Exploration rate (starts high)\n",
    "epsilon_min = 0.1    # Minimum exploration rate\n",
    "epsilon_decay = 0.9999 # Decay rate for epsilon\n",
    "\n",
    "def choose_action(state, epsilon):\n",
    "    if np.random.rand() <= epsilon:\n",
    "        return env.action_space.sample()  # Random action\n",
    "    with torch.no_grad():\n",
    "        q_values = model(torch.tensor(state, dtype=torch.float32))\n",
    "    return torch.argmax(q_values).item()  # Best action based on Q-values\n",
    "\n",
    "# Training parameters\n",
    "num_episodes = 50000  # Number of episodes to train\n",
    "gamma = 0.99         # Discount factor\n",
    "\n",
    "epsilon_values = []\n",
    "reward_values = []\n",
    "\n",
    "# Training loop\n",
    "for episode in tqdm(range(num_episodes), desc=\"Progress\"):\n",
    "    state, _ = env.reset()\n",
    "    state = np.identity(state_size)[state:state+1]  # One-hot encoding of initial state\n",
    "    total_reward = 0\n",
    "    done = False\n",
    "\n",
    "    for step in range(100):\n",
    "        # Choose action\n",
    "        action = choose_action(state, epsilon)\n",
    "\n",
    "        # Take action and observe results\n",
    "        next_state, reward, done, _, _ = env.step(action)\n",
    "        next_state = np.identity(state_size)[next_state:next_state+1]  # One-hot encoding of next state\n",
    "\n",
    "        # Modified reward structure example\n",
    "        if done and reward == 0:  # Fell into a hole\n",
    "            reward = 0\n",
    "        elif done and reward == 1:  # Reached the goal\n",
    "            reward = 1\n",
    "\n",
    "        # Store experience in replay memory\n",
    "        store_experience(state, action, reward, next_state, done)\n",
    "\n",
    "        # Update state\n",
    "        state = next_state\n",
    "        total_reward += reward\n",
    "\n",
    "        # Sample random batch from memory and train\n",
    "        if len(replay_memory) >= batch_size:\n",
    "            minibatch = random.sample(replay_memory, batch_size)\n",
    "            states_mb = torch.tensor([exp[0][0] for exp in minibatch], dtype=torch.float32)\n",
    "            actions_mb = torch.tensor([exp[1] for exp in minibatch], dtype=torch.long)\n",
    "            rewards_mb = torch.tensor([exp[2] for exp in minibatch], dtype=torch.float32)\n",
    "            next_states_mb = torch.tensor([exp[3][0] for exp in minibatch], dtype=torch.float32)\n",
    "            dones_mb = torch.tensor([exp[4] for exp in minibatch], dtype=torch.float32)\n",
    "\n",
    "            # Predict Q-values for current states and next states\n",
    "            current_qs = model(states_mb)\n",
    "            next_qs = model(next_states_mb)\n",
    "\n",
    "            # Compute target Q-values\n",
    "            target_qs = current_qs.clone()\n",
    "            for i in range(batch_size):\n",
    "                if dones_mb[i]:\n",
    "                    target_qs[i, actions_mb[i]] = rewards_mb[i]\n",
    "                else:\n",
    "                    target_qs[i, actions_mb[i]] = rewards_mb[i] + gamma * torch.max(next_qs[i])\n",
    "\n",
    "            # Compute the loss and update the network\n",
    "            loss = loss_fn(current_qs, target_qs)\n",
    "            optimizer.zero_grad()\n",
    "            loss.backward()\n",
    "            optimizer.step()\n",
    "\n",
    "        if done:\n",
    "            break\n",
    "\n",
    "    # Decay epsilon\n",
    "    epsilon = max(epsilon_min, epsilon * epsilon_decay)\n",
    "\n",
    "    # Store values\n",
    "    epsilon_values.append(epsilon)\n",
    "    reward_values.append(total_reward)\n",
    "\n",
    "    # # Display results occasionally\n",
    "    # if (episode + 1) % 10 == 0:\n",
    "    #     tqdm.write(f\"Episode: {episode + 1}, Total Reward: {total_reward:.1f}, Epsilon: {epsilon}\")\n",
    "\n",
    "print(\"Training completed.\")\n",
    "\n",
    "# Plotting\n",
    "plt.figure(figsize=(12, 6))\n",
    "\n",
    "# Plot epsilon values\n",
    "plt.subplot(1, 2, 1)\n",
    "plt.plot(epsilon_values)\n",
    "plt.title('Epsilon Decay Over Episodes')\n",
    "plt.xlabel('Episode')\n",
    "plt.ylabel('Epsilon')\n",
    "\n",
    "# Plot reward values\n",
    "plt.subplot(1, 2, 2)\n",
    "plt.plot(reward_values)\n",
    "plt.title('Rewards Per Episodes')\n",
    "plt.xlabel('Episode')\n",
    "plt.ylabel('Total Reward')\n",
    "\n",
    "plt.tight_layout()\n",
    "plt.show()"
   ]
  },
  {
   "cell_type": "code",
   "execution_count": 56,
   "metadata": {
    "collapsed": true,
    "jupyter": {
     "outputs_hidden": true,
     "source_hidden": true
    },
    "scrolled": true
   },
   "outputs": [
    {
     "name": "stderr",
     "output_type": "stream",
     "text": [
      "/opt/anaconda3/lib/python3.12/site-packages/gym/wrappers/record_video.py:75: UserWarning: \u001b[33mWARN: Overwriting existing videos at /Users/Matka/video2 folder (try specifying a different `video_folder` for the `RecordVideo` wrapper if this is not desired)\u001b[0m\n",
      "  logger.warn(\n",
      "/var/folders/vs/96pv3sg15cs6fv1_pwr524x00000gp/T/ipykernel_64187/632396392.py:64: UserWarning: To copy construct from a tensor, it is recommended to use sourceTensor.clone().detach() or sourceTensor.clone().detach().requires_grad_(True), rather than torch.tensor(sourceTensor).\n",
      "  q_values = model(torch.tensor(state, dtype=torch.float32))\n"
     ]
    },
    {
     "name": "stdout",
     "output_type": "stream",
     "text": [
      "MoviePy - Building video /Users/Matka/video2/rl-video-episode-0.mp4.\n",
      "MoviePy - Writing video /Users/Matka/video2/rl-video-episode-0.mp4\n",
      "\n"
     ]
    },
    {
     "name": "stderr",
     "output_type": "stream",
     "text": [
      "                                                                                "
     ]
    },
    {
     "name": "stdout",
     "output_type": "stream",
     "text": [
      "MoviePy - Done !\n",
      "MoviePy - video ready /Users/Matka/video2/rl-video-episode-0.mp4\n",
      "Total Reward in test episode: 1.0\n"
     ]
    },
    {
     "name": "stderr",
     "output_type": "stream",
     "text": [
      "\r"
     ]
    },
    {
     "data": {
      "text/html": [
       "\n",
       "        <video width=\"640\" height=\"480\" controls>\n",
       "            <source src=\"data:video/mp4;base64,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\" type=\"video/mp4\" />\n",
       "        </video>\n",
       "        "
      ],
      "text/plain": [
       "<IPython.core.display.HTML object>"
      ]
     },
     "execution_count": 56,
     "metadata": {},
     "output_type": "execute_result"
    }
   ],
   "source": [
    "env = gym.make(\"FrozenLake-v1\", desc=random_map, is_slippery=True, render_mode=\"rgb_array\")\n",
    "env = gym.wrappers.RecordVideo(env, video_folder='./video2', episode_trigger=lambda x: True)\n",
    "\n",
    "# Run a post-training episode to capture video\n",
    "state , _= env.reset()\n",
    "done = False\n",
    "total_reward = 0\n",
    "while not done:\n",
    "    state_tensor = torch.tensor(np.identity(state_size)[state:state+1], dtype=torch.float32)\n",
    "    action = choose_action(state_tensor, epsilon=0.1)  # Exploit learned policy\n",
    "    next_state, reward, done, _, _ = env.step(action)\n",
    "    total_reward += reward\n",
    "    state = next_state\n",
    "\n",
    "env.close()\n",
    "print(f\"Total Reward in test episode: {total_reward}\")  # Display final reward\n",
    "\n",
    "# Function to display the video in Jupyter Notebook\n",
    "def display_video(video_path):\n",
    "    video = io.open(video_path, 'r+b').read()\n",
    "    encoded = base64.b64encode(video)\n",
    "    return HTML(data=f'''\n",
    "        <video width=\"640\" height=\"480\" controls>\n",
    "            <source src=\"data:video/mp4;base64,{encoded.decode('ascii')}\" type=\"video/mp4\" />\n",
    "        </video>\n",
    "        ''')\n",
    "\n",
    "# Locate the recorded video\n",
    "import os\n",
    "from pathlib import Path\n",
    "\n",
    "video_path = sorted(Path('./video2').glob(\"*.mp4\"), key=os.path.getmtime)[-1]\n",
    "display_video(str(video_path))"
   ]
  },
  {
   "cell_type": "markdown",
   "metadata": {
    "jp-MarkdownHeadingCollapsed": true
   },
   "source": [
    "### 8x8"
   ]
  },
  {
   "cell_type": "code",
   "execution_count": 18,
   "metadata": {
    "jupyter": {
     "source_hidden": true
    }
   },
   "outputs": [],
   "source": [
    "# # delete video folder\n",
    "# import shutil\n",
    "# folder_path = \"./video3\"  # Adjust this to the exact path of the folder\n",
    "# shutil.rmtree(folder_path)"
   ]
  },
  {
   "cell_type": "code",
   "execution_count": 4,
   "metadata": {},
   "outputs": [
    {
     "name": "stderr",
     "output_type": "stream",
     "text": [
      "Progress:   0%|                                      | 0/100000 [00:00<?, ?it/s]/opt/anaconda3/lib/python3.12/site-packages/gym/utils/passive_env_checker.py:233: DeprecationWarning: `np.bool8` is a deprecated alias for `np.bool_`.  (Deprecated NumPy 1.24)\n",
      "  if not isinstance(terminated, (bool, np.bool8)):\n",
      "/var/folders/vs/96pv3sg15cs6fv1_pwr524x00000gp/T/ipykernel_15722/299282814.py:105: UserWarning: Creating a tensor from a list of numpy.ndarrays is extremely slow. Please consider converting the list to a single numpy.ndarray with numpy.array() before converting to a tensor. (Triggered internally at /Users/runner/work/pytorch/pytorch/pytorch/torch/csrc/utils/tensor_new.cpp:281.)\n",
      "  states_mb = torch.tensor([exp[0][0] for exp in minibatch], dtype=torch.float32)\n",
      "Progress:  17%|████▎                     | 16503/100000 [05:39<33:49, 41.15it/s]"
     ]
    },
    {
     "name": "stdout",
     "output_type": "stream",
     "text": [
      "Episode: 16498, Total Reward: 1.0, Epsilon: 0.8479099626863316\n"
     ]
    },
    {
     "name": "stderr",
     "output_type": "stream",
     "text": [
      "Progress: 100%|█████████████████████████| 100000/100000 [31:00<00:00, 53.76it/s]"
     ]
    },
    {
     "name": "stdout",
     "output_type": "stream",
     "text": [
      "Training completed.\n"
     ]
    },
    {
     "name": "stderr",
     "output_type": "stream",
     "text": [
      "\n"
     ]
    }
   ],
   "source": [
    "# Libraries for environments\n",
    "import gym\n",
    "from gym.envs.toy_text.frozen_lake import generate_random_map\n",
    "\n",
    "# Libraries for output display and plotting\n",
    "import numpy as np\n",
    "import random\n",
    "import torch\n",
    "import torch.nn as nn\n",
    "import torch.optim as optim\n",
    "from collections import deque \n",
    "from tqdm import tqdm\n",
    "import matplotlib.pyplot as plt\n",
    "\n",
    "# Generate a random map and create the Frozen Lake environment with is_slippery=True\n",
    "random_map = generate_random_map(size=8, p=0.3)\n",
    "env = gym.make(\"FrozenLake-v1\", desc=random_map, is_slippery=True, render_mode=\"rgb_array\")\n",
    "env.reset()\n",
    "env.render()\n",
    "\n",
    "# Wrap the environment with RecordVideo to capture video after training\n",
    "# env = gym.wrappers.RecordVideo(env, video_folder='./video2', episode_trigger=lambda x: (x+1) % 10 == 0)\n",
    "\n",
    "# Parameters\n",
    "state_size = env.observation_space.n  # Number of states\n",
    "action_size = env.action_space.n      # Number of actions\n",
    "learning_rate = 0.001\n",
    "\n",
    "# Define the neural network architecture\n",
    "class DQN(nn.Module):\n",
    "    def __init__(self, state_size, action_size):\n",
    "        super(DQN, self).__init__()\n",
    "        self.fc1 = nn.Linear(state_size, 64)\n",
    "        self.fc2 = nn.Linear(64, 64)\n",
    "        self.output = nn.Linear(64, action_size)\n",
    "\n",
    "    def forward(self, x):\n",
    "        x = torch.relu(self.fc1(x))\n",
    "        x = torch.relu(self.fc2(x))\n",
    "        return self.output(x)\n",
    "\n",
    "# Initialize the DQN model, loss function, and optimizer\n",
    "model = DQN(state_size, action_size)\n",
    "optimizer = optim.Adam(model.parameters(), lr=learning_rate)\n",
    "loss_fn = nn.MSELoss()\n",
    "\n",
    "# Experience replay parameters\n",
    "memory_size = 5000\n",
    "batch_size = 128\n",
    "replay_memory = deque(maxlen=memory_size)\n",
    "\n",
    "def store_experience(state, action, reward, next_state, done):\n",
    "    replay_memory.append((state, action, reward, next_state, done))\n",
    "\n",
    "# Epsilon-greedy parameters\n",
    "epsilon = 1.0        # Exploration rate (starts high)\n",
    "epsilon_min = 0.1    # Minimum exploration rate\n",
    "epsilon_decay = 0.99999 # Decay rate for epsilon\n",
    "\n",
    "def choose_action(state, epsilon):\n",
    "    if np.random.rand() <= epsilon:\n",
    "        return env.action_space.sample()  # Random action\n",
    "    with torch.no_grad():\n",
    "        q_values = model(torch.tensor(state, dtype=torch.float32))\n",
    "    return torch.argmax(q_values).item()  # Best action based on Q-values\n",
    "\n",
    "# Training parameters\n",
    "num_episodes = 100000  # Number of episodes to train\n",
    "gamma = 0.99         # Discount factor\n",
    "\n",
    "epsilon_values = []\n",
    "reward_values = []\n",
    "\n",
    "# Training loop\n",
    "for episode in tqdm(range(num_episodes), desc=\"Progress\"):\n",
    "    state, _ = env.reset()\n",
    "    state = np.identity(state_size)[state:state+1]  # One-hot encoding of initial state\n",
    "    total_reward = 0\n",
    "    done = False\n",
    "\n",
    "    for step in range(100):\n",
    "        # Choose action\n",
    "        action = choose_action(state, epsilon)\n",
    "\n",
    "        # Take action and observe results\n",
    "        next_state, reward, done, _, _ = env.step(action)\n",
    "        next_state = np.identity(state_size)[next_state:next_state+1]  # One-hot encoding of next state\n",
    "\n",
    "        # Modified reward structure example\n",
    "        if done and reward == 0:  # Fell into a hole\n",
    "            reward = 0\n",
    "        elif done and reward == 1:  # Reached the goal\n",
    "            reward = 1\n",
    "\n",
    "        # Store experience in replay memory\n",
    "        store_experience(state, action, reward, next_state, done)\n",
    "\n",
    "        # Update state\n",
    "        state = next_state\n",
    "        total_reward += reward\n",
    "\n",
    "        # Sample random batch from memory and train\n",
    "        if len(replay_memory) >= batch_size:\n",
    "            minibatch = random.sample(replay_memory, batch_size)\n",
    "            states_mb = torch.tensor([exp[0][0] for exp in minibatch], dtype=torch.float32)\n",
    "            actions_mb = torch.tensor([exp[1] for exp in minibatch], dtype=torch.long)\n",
    "            rewards_mb = torch.tensor([exp[2] for exp in minibatch], dtype=torch.float32)\n",
    "            next_states_mb = torch.tensor([exp[3][0] for exp in minibatch], dtype=torch.float32)\n",
    "            dones_mb = torch.tensor([exp[4] for exp in minibatch], dtype=torch.float32)\n",
    "\n",
    "            # Predict Q-values for current states and next states\n",
    "            current_qs = model(states_mb)\n",
    "            next_qs = model(next_states_mb)\n",
    "\n",
    "            # Compute target Q-values\n",
    "            target_qs = current_qs.clone()\n",
    "            for i in range(batch_size):\n",
    "                if dones_mb[i]:\n",
    "                    target_qs[i, actions_mb[i]] = rewards_mb[i]\n",
    "                else:\n",
    "                    target_qs[i, actions_mb[i]] = rewards_mb[i] + gamma * torch.max(next_qs[i])\n",
    "\n",
    "            # Compute the loss and update the network\n",
    "            loss = loss_fn(current_qs, target_qs)\n",
    "            optimizer.zero_grad()\n",
    "            loss.backward()\n",
    "            optimizer.step()\n",
    "\n",
    "        if done:\n",
    "            break\n",
    "\n",
    "    # Decay epsilon\n",
    "    epsilon = max(epsilon_min, epsilon * epsilon_decay)\n",
    "\n",
    "    # Store values\n",
    "    epsilon_values.append(epsilon)\n",
    "    reward_values.append(total_reward)\n",
    "\n",
    "    # Display results occasionally\n",
    "    # if (episode + 1) % 10 == 0:\n",
    "    #     tqdm.write(f\"Episode: {episode + 1}, Total Reward: {total_reward:.1f}, Epsilon: {epsilon}\")\n",
    "\n",
    "    if total_reward == 1:\n",
    "        tqdm.write(f\"Episode: {episode + 1}, Total Reward: {total_reward:.1f}, Epsilon: {epsilon}\") \n",
    "\n",
    "print(\"Training completed.\")\n",
    "\n",
    "# # Plotting\n",
    "# plt.figure(figsize=(12, 6))\n",
    "\n",
    "# # Plot epsilon values\n",
    "# plt.subplot(1, 2, 1)\n",
    "# plt.plot(epsilon_values)\n",
    "# plt.title('Epsilon Decay Over Episodes')\n",
    "# plt.xlabel('Episode')\n",
    "# plt.ylabel('Epsilon')\n",
    "\n",
    "# # Plot reward values\n",
    "# plt.subplot(1, 2, 2)\n",
    "# plt.plot(reward_values)\n",
    "# plt.title('Rewards Per Episodes')\n",
    "# plt.xlabel('Episode')\n",
    "# plt.ylabel('Total Reward')\n",
    "\n",
    "# plt.tight_layout()\n",
    "# plt.show()"
   ]
  },
  {
   "cell_type": "code",
   "execution_count": 5,
   "metadata": {},
   "outputs": [
    {
     "data": {
      "image/png": "[encoded data removed]",
      "text/plain": [
       "<Figure size 1200x600 with 2 Axes>"
      ]
     },
     "metadata": {},
     "output_type": "display_data"
    }
   ],
   "source": [
    "# Plotting for 8x8 grid\n",
    "plt.figure(figsize=(12, 6))\n",
    "\n",
    "# Plot epsilon values\n",
    "plt.subplot(1, 2, 1)\n",
    "plt.plot(epsilon_values)\n",
    "plt.title('Epsilon Decay Over Episodes')\n",
    "plt.xlabel('Episode')\n",
    "plt.ylabel('Epsilon')\n",
    "\n",
    "# Plot reward values\n",
    "plt.subplot(1, 2, 2)\n",
    "plt.plot(reward_values)\n",
    "plt.title('Rewards Per Episodes')\n",
    "plt.xlabel('Episode')\n",
    "plt.ylabel('Total Reward')\n",
    "\n",
    "plt.tight_layout()\n",
    "plt.show()"
   ]
  },
  {
   "cell_type": "code",
   "execution_count": null,
   "metadata": {
    "jupyter": {
     "source_hidden": true
    }
   },
   "outputs": [],
   "source": [
    "env = gym.make(\"FrozenLake-v1\", desc=random_map, is_slippery=True, render_mode=\"rgb_array\")\n",
    "env = gym.wrappers.RecordVideo(env, video_folder='./video3', episode_trigger=lambda x: True)\n",
    "\n",
    "# Run a post-training episode to capture video\n",
    "state , _= env.reset()\n",
    "done = False\n",
    "total_reward = 0\n",
    "while not done:\n",
    "    state_tensor = torch.tensor(np.identity(state_size)[state:state+1], dtype=torch.float32)\n",
    "    action = choose_action(state_tensor, epsilon=0.1)  # Exploit learned policy\n",
    "    next_state, reward, done, _, _ = env.step(action)\n",
    "    total_reward += reward\n",
    "    state = next_state\n",
    "\n",
    "env.close()\n",
    "print(f\"Total Reward in test episode: {total_reward}\")  # Display final reward\n",
    "\n",
    "# Function to display the video in Jupyter Notebook\n",
    "def display_video(video_path):\n",
    "    video = io.open(video_path, 'r+b').read()\n",
    "    encoded = base64.b64encode(video)\n",
    "    return HTML(data=f'''\n",
    "        <video width=\"640\" height=\"480\" controls>\n",
    "            <source src=\"data:video/mp4;base64,{encoded.decode('ascii')}\" type=\"video/mp4\" />\n",
    "        </video>\n",
    "        ''')\n",
    "\n",
    "# Locate the recorded video\n",
    "import os\n",
    "from pathlib import Path\n",
    "\n",
    "video_path = sorted(Path('./video3').glob(\"*.mp4\"), key=os.path.getmtime)[-1]\n",
    "display_video(str(video_path))"
   ]
  },
  {
   "cell_type": "markdown",
   "metadata": {},
   "source": [
    "### 8x8 more episodes"
   ]
  },
  {
   "cell_type": "code",
   "execution_count": null,
   "metadata": {},
   "outputs": [
    {
     "name": "stderr",
     "output_type": "stream",
     "text": [
      "Progress:   0%|                         | 1006/500000 [00:18<2:19:35, 59.58it/s]"
     ]
    },
    {
     "name": "stdout",
     "output_type": "stream",
     "text": [
      "Episode: 1000, Total Reward: 0.0, Epsilon: 0.9900497842463938\n"
     ]
    },
    {
     "name": "stderr",
     "output_type": "stream",
     "text": [
      "Progress:   0%|                         | 2003/500000 [00:37<2:53:18, 47.89it/s]"
     ]
    },
    {
     "name": "stdout",
     "output_type": "stream",
     "text": [
      "Episode: 2000, Total Reward: 0.0, Epsilon: 0.980198575286327\n"
     ]
    },
    {
     "name": "stderr",
     "output_type": "stream",
     "text": [
      "Progress:   1%|▏                        | 3009/500000 [00:55<2:34:56, 53.46it/s]"
     ]
    },
    {
     "name": "stdout",
     "output_type": "stream",
     "text": [
      "Episode: 3000, Total Reward: 0.0, Epsilon: 0.970445387980849\n"
     ]
    },
    {
     "name": "stderr",
     "output_type": "stream",
     "text": [
      "Progress:   1%|▏                        | 3575/500000 [01:06<2:19:57, 59.11it/s]"
     ]
    }
   ],
   "source": [
    "# Libraries for environments\n",
    "import gym\n",
    "from gym.envs.toy_text.frozen_lake import generate_random_map\n",
    "\n",
    "# Libraries for output display and plotting\n",
    "import numpy as np\n",
    "import random\n",
    "import torch\n",
    "import torch.nn as nn\n",
    "import torch.optim as optim\n",
    "from collections import deque \n",
    "from tqdm import tqdm\n",
    "import matplotlib.pyplot as plt\n",
    "\n",
    "# Generate a random map and create the Frozen Lake environment with is_slippery=True\n",
    "random_map = generate_random_map(size=8, p=0.3)\n",
    "env = gym.make(\"FrozenLake-v1\", desc=random_map, is_slippery=True, render_mode=\"rgb_array\")\n",
    "env.reset()\n",
    "env.render()\n",
    "\n",
    "# Wrap the environment with RecordVideo to capture video after training\n",
    "# env = gym.wrappers.RecordVideo(env, video_folder='./video2', episode_trigger=lambda x: (x+1) % 10 == 0)\n",
    "\n",
    "# Parameters\n",
    "state_size = env.observation_space.n  # Number of states\n",
    "action_size = env.action_space.n      # Number of actions\n",
    "learning_rate = 0.001\n",
    "\n",
    "# Define the neural network architecture\n",
    "class DQN(nn.Module):\n",
    "    def __init__(self, state_size, action_size):\n",
    "        super(DQN, self).__init__()\n",
    "        self.fc1 = nn.Linear(state_size, 64)\n",
    "        self.fc2 = nn.Linear(64, 64)\n",
    "        self.output = nn.Linear(64, action_size)\n",
    "\n",
    "    def forward(self, x):\n",
    "        x = torch.relu(self.fc1(x))\n",
    "        x = torch.relu(self.fc2(x))\n",
    "        return self.output(x)\n",
    "\n",
    "# Initialize the DQN model, loss function, and optimizer\n",
    "model = DQN(state_size, action_size)\n",
    "optimizer = optim.Adam(model.parameters(), lr=learning_rate)\n",
    "loss_fn = nn.MSELoss()\n",
    "\n",
    "# Experience replay parameters\n",
    "memory_size = 5000\n",
    "batch_size = 128\n",
    "replay_memory = deque(maxlen=memory_size)\n",
    "\n",
    "def store_experience(state, action, reward, next_state, done):\n",
    "    replay_memory.append((state, action, reward, next_state, done))\n",
    "\n",
    "# Epsilon-greedy parameters\n",
    "epsilon = 1.0        # Exploration rate (starts high)\n",
    "epsilon_min = 0.1    # Minimum exploration rate\n",
    "epsilon_decay = 0.99999 # Decay rate for epsilon\n",
    "\n",
    "def choose_action(state, epsilon):\n",
    "    if np.random.rand() <= epsilon:\n",
    "        return env.action_space.sample()  # Random action\n",
    "    with torch.no_grad():\n",
    "        q_values = model(torch.tensor(state, dtype=torch.float32))\n",
    "    return torch.argmax(q_values).item()  # Best action based on Q-values\n",
    "\n",
    "# Training parameters\n",
    "num_episodes = 500000  # Number of episodes to train\n",
    "gamma = 0.99         # Discount factor\n",
    "\n",
    "epsilon_values = []\n",
    "reward_values = []\n",
    "\n",
    "# Training loop\n",
    "for episode in tqdm(range(num_episodes), desc=\"Progress\"):\n",
    "    state, _ = env.reset()\n",
    "    state = np.identity(state_size)[state:state+1]  # One-hot encoding of initial state\n",
    "    total_reward = 0\n",
    "    done = False\n",
    "\n",
    "    for step in range(100):\n",
    "        # Choose action\n",
    "        action = choose_action(state, epsilon)\n",
    "\n",
    "        # Take action and observe results\n",
    "        next_state, reward, done, _, _ = env.step(action)\n",
    "        next_state = np.identity(state_size)[next_state:next_state+1]  # One-hot encoding of next state\n",
    "\n",
    "        # Modified reward structure example\n",
    "        if done and reward == 0:  # Fell into a hole\n",
    "            reward = 0\n",
    "        elif done and reward == 1:  # Reached the goal\n",
    "            reward = 1\n",
    "\n",
    "        # Store experience in replay memory\n",
    "        store_experience(state, action, reward, next_state, done)\n",
    "\n",
    "        # Update state\n",
    "        state = next_state\n",
    "        total_reward += reward\n",
    "\n",
    "        # Sample random batch from memory and train\n",
    "        if len(replay_memory) >= batch_size:\n",
    "            minibatch = random.sample(replay_memory, batch_size)\n",
    "            states_mb = torch.tensor([exp[0][0] for exp in minibatch], dtype=torch.float32)\n",
    "            actions_mb = torch.tensor([exp[1] for exp in minibatch], dtype=torch.long)\n",
    "            rewards_mb = torch.tensor([exp[2] for exp in minibatch], dtype=torch.float32)\n",
    "            next_states_mb = torch.tensor([exp[3][0] for exp in minibatch], dtype=torch.float32)\n",
    "            dones_mb = torch.tensor([exp[4] for exp in minibatch], dtype=torch.float32)\n",
    "\n",
    "            # Predict Q-values for current states and next states\n",
    "            current_qs = model(states_mb)\n",
    "            next_qs = model(next_states_mb)\n",
    "\n",
    "            # Compute target Q-values\n",
    "            target_qs = current_qs.clone()\n",
    "            for i in range(batch_size):\n",
    "                if dones_mb[i]:\n",
    "                    target_qs[i, actions_mb[i]] = rewards_mb[i]\n",
    "                else:\n",
    "                    target_qs[i, actions_mb[i]] = rewards_mb[i] + gamma * torch.max(next_qs[i])\n",
    "\n",
    "            # Compute the loss and update the network\n",
    "            loss = loss_fn(current_qs, target_qs)\n",
    "            optimizer.zero_grad()\n",
    "            loss.backward()\n",
    "            optimizer.step()\n",
    "\n",
    "        if done:\n",
    "            break\n",
    "\n",
    "    # Decay epsilon\n",
    "    epsilon = max(epsilon_min, epsilon * epsilon_decay)\n",
    "\n",
    "    # Store values\n",
    "    epsilon_values.append(epsilon)\n",
    "    reward_values.append(total_reward)\n",
    "\n",
    "    # Display results occasionally\n",
    "    if (episode + 1) % 1000 == 0:\n",
    "        tqdm.write(f\"Episode: {episode + 1}, Total Reward: {total_reward:.1f}, Epsilon: {epsilon}\")\n",
    "\n",
    "    if total_reward == 1:\n",
    "        tqdm.write(f\"Episode: {episode + 1}, Total Reward: {total_reward:.1f}, Epsilon: {epsilon}\") \n",
    "\n",
    "print(\"Training completed.\")\n",
    "\n",
    "# # Plotting\n",
    "# plt.figure(figsize=(12, 6))\n",
    "\n",
    "# # Plot epsilon values\n",
    "# plt.subplot(1, 2, 1)\n",
    "# plt.plot(epsilon_values)\n",
    "# plt.title('Epsilon Decay Over Episodes')\n",
    "# plt.xlabel('Episode')\n",
    "# plt.ylabel('Epsilon')\n",
    "\n",
    "# # Plot reward values\n",
    "# plt.subplot(1, 2, 2)\n",
    "# plt.plot(reward_values)\n",
    "# plt.title('Rewards Per Episodes')\n",
    "# plt.xlabel('Episode')\n",
    "# plt.ylabel('Total Reward')\n",
    "\n",
    "# plt.tight_layout()\n",
    "# plt.show()"
   ]
  },
  {
   "cell_type": "code",
   "execution_count": 4,
   "metadata": {},
   "outputs": [
    {
     "data": {
      "image/png": "[encoded data removed]",
      "text/plain": [
       "<Figure size 1200x600 with 2 Axes>"
      ]
     },
     "metadata": {},
     "output_type": "display_data"
    }
   ],
   "source": [
    "# Plotting for 8x8 grid\n",
    "plt.figure(figsize=(12, 6))\n",
    "\n",
    "# Plot epsilon values\n",
    "plt.subplot(1, 2, 1)\n",
    "plt.plot(epsilon_values)\n",
    "plt.title('Epsilon Decay Over Episodes')\n",
    "plt.xlabel('Episode')\n",
    "plt.ylabel('Epsilon')\n",
    "\n",
    "# Plot reward values\n",
    "plt.subplot(1, 2, 2)\n",
    "plt.plot(reward_values)\n",
    "plt.title('Rewards Per Episodes')\n",
    "plt.xlabel('Episode')\n",
    "plt.ylabel('Total Reward')\n",
    "\n",
    "plt.tight_layout()\n",
    "plt.show()"
   ]
  }
 ],
 "metadata": {
  "colab": {
   "collapsed_sections": [
    "UoIHlds0elIT",
    "lKH8jwtloJjh",
    "LsCYhmElxWXa"
   ],
   "provenance": []
  },
  "kernelspec": {
   "display_name": "Python 3 (ipykernel)",
   "language": "python",
   "name": "python3"
  },
  "language_info": {
   "codemirror_mode": {
    "name": "ipython",
    "version": 3
   },
   "file_extension": ".py",
   "mimetype": "text/x-python",
   "name": "python",
   "nbconvert_exporter": "python",
   "pygments_lexer": "ipython3",
   "version": "3.12.7"
  }
 },
 "nbformat": 4,
 "nbformat_minor": 4
}
